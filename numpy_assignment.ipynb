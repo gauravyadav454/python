{
  "cells": [
    {
      "cell_type": "code",
      "execution_count": null,
      "metadata": {
        "id": "HDlT0AQGjE1h"
      },
      "outputs": [],
      "source": [
        "import numpy as np"
      ]
    },
    {
      "cell_type": "code",
      "execution_count": null,
      "metadata": {
        "colab": {
          "base_uri": "https://localhost:8080/"
        },
        "id": "wpw121rZqwxU",
        "outputId": "9b17ec8d-e6d3-40b5-adb7-345dbe006cee"
      },
      "outputs": [
        {
          "data": {
            "text/plain": [
              "array([0, 1, 2, 3, 4, 5])"
            ]
          },
          "execution_count": 7,
          "metadata": {},
          "output_type": "execute_result"
        }
      ],
      "source": [
        "#1.check data type of arr\n",
        "arr = np.arange(6)\n",
        "arr"
      ]
    },
    {
      "cell_type": "code",
      "execution_count": null,
      "metadata": {
        "colab": {
          "base_uri": "https://localhost:8080/"
        },
        "id": "JrT6yE-_q_4g",
        "outputId": "13305974-3e8d-4e3b-af95-b6738f18f0e8"
      },
      "outputs": [
        {
          "name": "stdout",
          "output_type": "stream",
          "text": [
            "int64\n"
          ]
        }
      ],
      "source": [
        "print(arr.dtype)"
      ]
    },
    {
      "cell_type": "code",
      "execution_count": null,
      "metadata": {
        "colab": {
          "base_uri": "https://localhost:8080/"
        },
        "id": "Mp0XMKZmrPCg",
        "outputId": "63a82d1e-e65a-4cd2-a0ae-eaf05812e24c"
      },
      "outputs": [
        {
          "name": "stdout",
          "output_type": "stream",
          "text": [
            "True\n"
          ]
        }
      ],
      "source": [
        "#2.\n",
        "arr = np.array([1.5,2.6,3.7])\n",
        "datatype = arr.dtype == 'float64'\n",
        "print(datatype)\n",
        "\n"
      ]
    },
    {
      "cell_type": "code",
      "execution_count": null,
      "metadata": {
        "colab": {
          "base_uri": "https://localhost:8080/"
        },
        "id": "OOPCiAeQrzaY",
        "outputId": "759811b9-1b52-46c2-be8b-426d9872f1c4"
      },
      "outputs": [
        {
          "data": {
            "text/plain": [
              "array([1.+2.j, 2.+3.j, 4.+3.j])"
            ]
          },
          "execution_count": 6,
          "metadata": {},
          "output_type": "execute_result"
        }
      ],
      "source": [
        "#3.\n",
        "complex_arr = np.array([1+2j,2+3j,4+3j],dtype = np.complex128)\n",
        "complex_arr\n"
      ]
    },
    {
      "cell_type": "code",
      "execution_count": null,
      "metadata": {
        "colab": {
          "base_uri": "https://localhost:8080/"
        },
        "id": "BjGfn91btQ3r",
        "outputId": "2b665212-d996-43e2-a599-cf04bc34a0ad"
      },
      "outputs": [
        {
          "name": "stdout",
          "output_type": "stream",
          "text": [
            "complex128\n"
          ]
        }
      ],
      "source": [
        "print(complex_arr.dtype)"
      ]
    },
    {
      "cell_type": "code",
      "execution_count": null,
      "metadata": {
        "colab": {
          "base_uri": "https://localhost:8080/"
        },
        "id": "948qwsJOtbqP",
        "outputId": "19e05f2d-6719-49a3-ca96-33d2c00d622d"
      },
      "outputs": [
        {
          "name": "stdout",
          "output_type": "stream",
          "text": [
            "float32\n"
          ]
        }
      ],
      "source": [
        "#4.\n",
        "arr = np.array([1,2,3,4,5],dtype = np.float32)\n",
        "print(arr.dtype)"
      ]
    },
    {
      "cell_type": "code",
      "execution_count": null,
      "metadata": {
        "colab": {
          "base_uri": "https://localhost:8080/"
        },
        "id": "w7ZIabm_gnwL",
        "outputId": "433e3b89-8ffa-432c-dd3f-77b2e8f1c79c"
      },
      "outputs": [
        {
          "name": "stdout",
          "output_type": "stream",
          "text": [
            "float64\n"
          ]
        }
      ],
      "source": [
        "#5.\n",
        "arr = np.array([1.5,2.6,3.7])\n",
        "print(arr.dtype)"
      ]
    },
    {
      "cell_type": "code",
      "execution_count": null,
      "metadata": {
        "colab": {
          "base_uri": "https://localhost:8080/"
        },
        "id": "Mcnk9tUDhNH2",
        "outputId": "f14ca83f-23e3-497d-b47a-b3aa5dfc2f3b"
      },
      "outputs": [
        {
          "name": "stdout",
          "output_type": "stream",
          "text": [
            "float32\n"
          ]
        }
      ],
      "source": [
        "# converting it to float32 to reduce decimal precision\n",
        "arrfloat32 = np.array(arr,dtype = np.float32 )\n",
        "print(arrfloat32.dtype)"
      ]
    },
    {
      "cell_type": "code",
      "execution_count": null,
      "metadata": {
        "id": "yQddxkdUiLeg"
      },
      "outputs": [],
      "source": [
        "#6.\n",
        "def array_attribute(arr):\n",
        "   print('array shape is: ', arr.shape)\n",
        "   print('array size is: ', arr.size)\n",
        "   print('array datatype is: ', arr.dtype)"
      ]
    },
    {
      "cell_type": "code",
      "execution_count": null,
      "metadata": {
        "colab": {
          "base_uri": "https://localhost:8080/"
        },
        "id": "a5STVIsyjTFH",
        "outputId": "d6f99995-b160-4582-f4f5-ab4e3a716604"
      },
      "outputs": [
        {
          "name": "stdout",
          "output_type": "stream",
          "text": [
            "array shape is:  (4,)\n",
            "array size is:  4\n",
            "array datatype is:  float64\n"
          ]
        }
      ],
      "source": [
        "arr_ = np.array([1.3,1.4,5,3])\n",
        "array_attribute(arr_)"
      ]
    },
    {
      "cell_type": "code",
      "execution_count": null,
      "metadata": {
        "id": "GR41Jv19kRoq"
      },
      "outputs": [],
      "source": [
        "#7.\n",
        "def check_dim(arr):\n",
        "  return \"dimension is:\"+ str(arr.ndim)\n"
      ]
    },
    {
      "cell_type": "code",
      "execution_count": null,
      "metadata": {
        "colab": {
          "base_uri": "https://localhost:8080/",
          "height": 35
        },
        "id": "1pJhhAvAoNBQ",
        "outputId": "536615ee-5819-4a6e-8157-c3f06c03d2f2"
      },
      "outputs": [
        {
          "data": {
            "application/vnd.google.colaboratory.intrinsic+json": {
              "type": "string"
            },
            "text/plain": [
              "'dimension is:2'"
            ]
          },
          "execution_count": 32,
          "metadata": {},
          "output_type": "execute_result"
        }
      ],
      "source": [
        "check_dim(np.array([[1,2,4,5,6],[4,5,6,7,8]]))"
      ]
    },
    {
      "cell_type": "code",
      "execution_count": null,
      "metadata": {
        "id": "yycYuTv2oYYk"
      },
      "outputs": [],
      "source": [
        "#8.\n",
        "def item_size_info(arr_):\n",
        "  print('item size is:', arr_.itemsize)\n",
        "  print('total size in bytes is:', arr_.nbytes)"
      ]
    },
    {
      "cell_type": "code",
      "execution_count": null,
      "metadata": {
        "colab": {
          "base_uri": "https://localhost:8080/"
        },
        "id": "TdK6ug7Aqwmq",
        "outputId": "d5b7c576-06da-454f-e584-a345933dd6f7"
      },
      "outputs": [
        {
          "name": "stdout",
          "output_type": "stream",
          "text": [
            "item size is: 8\n",
            "total size in bytes is: 24\n"
          ]
        }
      ],
      "source": [
        "item_size_info(np.array([1.5,2.6,3.7]))"
      ]
    },
    {
      "cell_type": "code",
      "execution_count": null,
      "metadata": {
        "id": "_KL2VTZkq-Sc"
      },
      "outputs": [],
      "source": [
        "#9.\n",
        "def array_strides(arr):\n",
        "  print(\"strides is :\" , arr.strides)"
      ]
    },
    {
      "cell_type": "code",
      "execution_count": null,
      "metadata": {
        "colab": {
          "base_uri": "https://localhost:8080/"
        },
        "id": "NVYGfldyr5WP",
        "outputId": "0e049cb7-0365-4be3-8ce0-7022c9ca0c69"
      },
      "outputs": [
        {
          "name": "stdout",
          "output_type": "stream",
          "text": [
            "strides is : (8,)\n"
          ]
        }
      ],
      "source": [
        "array_strides(np.array([1.5,2.6,3.7]))"
      ]
    },
    {
      "cell_type": "code",
      "execution_count": null,
      "metadata": {
        "colab": {
          "base_uri": "https://localhost:8080/"
        },
        "id": "amMrHbgcsCgL",
        "outputId": "904692e0-86b1-43f9-9c02-6a532233d7ed"
      },
      "outputs": [
        {
          "name": "stdout",
          "output_type": "stream",
          "text": [
            "strides is : (40, 8)\n"
          ]
        }
      ],
      "source": [
        "array_strides(np.array([[1,2,4,5,6],[4,5,6,7,8]]))"
      ]
    },
    {
      "cell_type": "code",
      "execution_count": null,
      "metadata": {
        "id": "lMm3Z_ycsLTt"
      },
      "outputs": [],
      "source": [
        "#10.\n",
        "def shape_stride_array(arr):\n",
        "  print(\"array shape is:\" , arr.shape)\n",
        "  print(\"array strides is :\", arr.strides)\n",
        "\n"
      ]
    },
    {
      "cell_type": "code",
      "execution_count": null,
      "metadata": {
        "colab": {
          "base_uri": "https://localhost:8080/"
        },
        "id": "LZtDO8dRuBNP",
        "outputId": "b04ecd52-4470-41a8-f3af-d5ad65201728"
      },
      "outputs": [
        {
          "name": "stdout",
          "output_type": "stream",
          "text": [
            "array shape is: (2, 5)\n",
            "array strides is : (40, 8)\n"
          ]
        }
      ],
      "source": [
        "shape_stride_array(np.array([[1,2,4,5,6],[4,5,6,7,8]]))"
      ]
    },
    {
      "cell_type": "code",
      "execution_count": null,
      "metadata": {
        "id": "c7rSKdRduIEA"
      },
      "outputs": [],
      "source": [
        "#11.\n",
        "def create_zeros_array(n):\n",
        "  return np.zeros(n)"
      ]
    },
    {
      "cell_type": "code",
      "execution_count": null,
      "metadata": {
        "colab": {
          "base_uri": "https://localhost:8080/"
        },
        "id": "e2acJSNdu6DN",
        "outputId": "bcc5c5f6-984f-4699-be53-271e81d56b17"
      },
      "outputs": [
        {
          "data": {
            "text/plain": [
              "array([0., 0., 0., 0., 0., 0., 0.])"
            ]
          },
          "execution_count": 51,
          "metadata": {},
          "output_type": "execute_result"
        }
      ],
      "source": [
        "create_zeros_array(7)"
      ]
    },
    {
      "cell_type": "code",
      "execution_count": null,
      "metadata": {
        "id": "sz9iAvL0vdWg"
      },
      "outputs": [],
      "source": [
        "#12.\n",
        "def create_ones_matrix(shape):\n",
        "  return np.ones(shape)\n",
        "\n"
      ]
    },
    {
      "cell_type": "code",
      "execution_count": null,
      "metadata": {
        "colab": {
          "base_uri": "https://localhost:8080/"
        },
        "id": "sIdKMQIWxAbE",
        "outputId": "ffa9b140-3faa-4325-a242-1d66cbad0ed4"
      },
      "outputs": [
        {
          "data": {
            "text/plain": [
              "array([[1., 1., 1.],\n",
              "       [1., 1., 1.]])"
            ]
          },
          "execution_count": 61,
          "metadata": {},
          "output_type": "execute_result"
        }
      ],
      "source": [
        "create_ones_matrix((2,3))"
      ]
    },
    {
      "cell_type": "code",
      "execution_count": null,
      "metadata": {
        "id": "5KEpp1DzxI1U"
      },
      "outputs": [],
      "source": [
        "#13.\n",
        "def generate_range_arr(start,stop,step):\n",
        "  return np.arange(start,stop,step)\n"
      ]
    },
    {
      "cell_type": "code",
      "execution_count": null,
      "metadata": {
        "colab": {
          "base_uri": "https://localhost:8080/"
        },
        "id": "9tPW8U6lzDE2",
        "outputId": "40709694-7d30-4cd7-d3ff-2491a532ee15"
      },
      "outputs": [
        {
          "data": {
            "text/plain": [
              "array([ 1,  4,  7, 10, 13])"
            ]
          },
          "execution_count": 63,
          "metadata": {},
          "output_type": "execute_result"
        }
      ],
      "source": [
        "generate_range_arr(1,15,3)"
      ]
    },
    {
      "cell_type": "code",
      "execution_count": null,
      "metadata": {
        "id": "m9AARjG2zKsh"
      },
      "outputs": [],
      "source": [
        "#14.\n",
        "def generate_linear_space(start,stop,num):\n",
        "  return np.linspace(start,stop,num)"
      ]
    },
    {
      "cell_type": "code",
      "execution_count": null,
      "metadata": {
        "colab": {
          "base_uri": "https://localhost:8080/"
        },
        "id": "oNFUqR5k0YhN",
        "outputId": "8bc75ce7-96ba-4339-9369-0089c71f4b0c"
      },
      "outputs": [
        {
          "data": {
            "text/plain": [
              "array([0.5, 1. , 1.5, 2. , 2.5, 3. , 3.5, 4. , 4.5, 5. ])"
            ]
          },
          "execution_count": 14,
          "metadata": {},
          "output_type": "execute_result"
        }
      ],
      "source": [
        "generate_linear_space(0.5,5.0,10)"
      ]
    },
    {
      "cell_type": "code",
      "execution_count": null,
      "metadata": {
        "id": "L2Lt6jaM0Y1G"
      },
      "outputs": [],
      "source": [
        "#15.\n",
        "def create_identity_matrix(n):\n",
        "  return np.eye(n,n)\n"
      ]
    },
    {
      "cell_type": "code",
      "execution_count": null,
      "metadata": {
        "colab": {
          "base_uri": "https://localhost:8080/"
        },
        "id": "g3z5n8nH2TQh",
        "outputId": "f70522b9-6f12-4301-9720-8dc8c4025821"
      },
      "outputs": [
        {
          "data": {
            "text/plain": [
              "array([[1., 0., 0., 0.],\n",
              "       [0., 1., 0., 0.],\n",
              "       [0., 0., 1., 0.],\n",
              "       [0., 0., 0., 1.]])"
            ]
          },
          "execution_count": 71,
          "metadata": {},
          "output_type": "execute_result"
        }
      ],
      "source": [
        "create_identity_matrix(4)"
      ]
    },
    {
      "cell_type": "code",
      "execution_count": null,
      "metadata": {
        "id": "OVUzTJd62W4g"
      },
      "outputs": [],
      "source": [
        "#16.\n",
        "def list_to_array(lst):\n",
        "  return np.array(lst)"
      ]
    },
    {
      "cell_type": "code",
      "execution_count": null,
      "metadata": {
        "colab": {
          "base_uri": "https://localhost:8080/"
        },
        "id": "ByRdBZfT2ttb",
        "outputId": "81078778-0e5c-414a-d8df-0708d2b347d1"
      },
      "outputs": [
        {
          "data": {
            "text/plain": [
              "array([1, 2, 3, 4, 5, 6, 7])"
            ]
          },
          "execution_count": 73,
          "metadata": {},
          "output_type": "execute_result"
        }
      ],
      "source": [
        "list_to_array([1,2,3,4,5,6,7])"
      ]
    },
    {
      "cell_type": "code",
      "execution_count": null,
      "metadata": {
        "colab": {
          "base_uri": "https://localhost:8080/"
        },
        "id": "a6Dp6Zxf2zrr",
        "outputId": "e31963b2-51e2-4078-b17d-4995cf653e7d"
      },
      "outputs": [
        {
          "data": {
            "text/plain": [
              "array([1, 2, 3, 4, 4, 5, 6])"
            ]
          },
          "execution_count": 3,
          "metadata": {},
          "output_type": "execute_result"
        }
      ],
      "source": [
        "#17.\n",
        "arr = np.array([1,2,3,4,4,5,6])\n",
        "arr_view = arr.view()\n",
        "arr_view"
      ]
    },
    {
      "cell_type": "code",
      "execution_count": null,
      "metadata": {
        "colab": {
          "base_uri": "https://localhost:8080/"
        },
        "id": "iv2rlvMG3O46",
        "outputId": "3c3e03c9-52d0-424d-f8a4-dc3f445922e0"
      },
      "outputs": [
        {
          "data": {
            "text/plain": [
              "array([10,  2,  3,  4,  4,  5,  6])"
            ]
          },
          "execution_count": 4,
          "metadata": {},
          "output_type": "execute_result"
        }
      ],
      "source": [
        "arr_view[0] = 10\n",
        "arr_view"
      ]
    },
    {
      "cell_type": "code",
      "execution_count": null,
      "metadata": {
        "colab": {
          "base_uri": "https://localhost:8080/"
        },
        "id": "iHBCjFjk3jBL",
        "outputId": "536e2c6b-32c2-4cec-cb76-01e6fc7cb25a"
      },
      "outputs": [
        {
          "data": {
            "text/plain": [
              "array([10,  2,  3,  4,  4,  5,  6])"
            ]
          },
          "execution_count": 5,
          "metadata": {},
          "output_type": "execute_result"
        }
      ],
      "source": [
        "# modifying the arr_view also reflecting the original array\n",
        "arr"
      ]
    },
    {
      "cell_type": "code",
      "execution_count": null,
      "metadata": {
        "id": "SzhrI_PRLbuS"
      },
      "outputs": [],
      "source": [
        "#18.\n",
        "def concatinate_arrays(arr1,arr2):\n",
        "  return np.concatenate((arr1,arr2),axis = 1)\n"
      ]
    },
    {
      "cell_type": "code",
      "execution_count": null,
      "metadata": {
        "colab": {
          "base_uri": "https://localhost:8080/"
        },
        "id": "D508tHbcMoA3",
        "outputId": "8b8e2f1e-100d-46f0-dfb0-7f8f872fb81d"
      },
      "outputs": [
        {
          "data": {
            "text/plain": [
              "array([[1, 2, 3, 4, 5, 6],\n",
              "       [5, 6, 7, 6, 7, 8]])"
            ]
          },
          "execution_count": 17,
          "metadata": {},
          "output_type": "execute_result"
        }
      ],
      "source": [
        "concatinate_arrays((np.array([[1,2,3],[5,6,7]])),np.array([[4,5,6],[6,7,8]]))"
      ]
    },
    {
      "cell_type": "code",
      "execution_count": null,
      "metadata": {
        "id": "BXaHiKPmOe6N"
      },
      "outputs": [],
      "source": []
    },
    {
      "cell_type": "code",
      "execution_count": null,
      "metadata": {
        "colab": {
          "base_uri": "https://localhost:8080/"
        },
        "id": "2q0g9FRRMwgC",
        "outputId": "6a7724f7-4801-48ce-b339-a101057297a4"
      },
      "outputs": [
        {
          "data": {
            "text/plain": [
              "array([[1, 2, 3],\n",
              "       [3, 4, 2],\n",
              "       [4, 5, 6]])"
            ]
          },
          "execution_count": 19,
          "metadata": {},
          "output_type": "execute_result"
        }
      ],
      "source": [
        "#19.\n",
        "arr1 = np.array([[1,2,3],[3,4,2]])\n",
        "arr2 = np.array([[4,5,6]])\n",
        "np.concatenate((arr1,arr2),axis = 0)"
      ]
    },
    {
      "cell_type": "code",
      "execution_count": null,
      "metadata": {
        "id": "Zqx9k-lHOJ_s"
      },
      "outputs": [],
      "source": [
        "#20.\n",
        "def vstack_arrays(array_list):\n",
        "  return np.vstack(array_list)\n"
      ]
    },
    {
      "cell_type": "code",
      "execution_count": null,
      "metadata": {
        "colab": {
          "base_uri": "https://localhost:8080/"
        },
        "id": "gBxTU9yXRC8d",
        "outputId": "c91d0e40-8e87-49f4-e79f-0c510b9e96ec"
      },
      "outputs": [
        {
          "data": {
            "text/plain": [
              "array([[1, 2, 5],\n",
              "       [3, 4, 5]])"
            ]
          },
          "execution_count": 25,
          "metadata": {},
          "output_type": "execute_result"
        }
      ],
      "source": [
        "arrays = np.array([1, 2,5]), np.array([3, 4, 5])\n",
        "vstack_arrays(arrays)"
      ]
    },
    {
      "cell_type": "code",
      "execution_count": null,
      "metadata": {
        "id": "i_-jzwPmRGJ0"
      },
      "outputs": [],
      "source": [
        "#21.\n",
        "def array_with_step_size(start,stop,step):\n",
        "  return np.arange(start,stop,step)"
      ]
    },
    {
      "cell_type": "code",
      "execution_count": null,
      "metadata": {
        "colab": {
          "base_uri": "https://localhost:8080/"
        },
        "id": "ubJhAoh3nLPi",
        "outputId": "0adb06c4-e774-4b85-d77f-4757f5018efe"
      },
      "outputs": [
        {
          "data": {
            "text/plain": [
              "array([ 1,  4,  7, 10, 13])"
            ]
          },
          "execution_count": 3,
          "metadata": {},
          "output_type": "execute_result"
        }
      ],
      "source": [
        "array_with_step_size(1,15,3)"
      ]
    },
    {
      "cell_type": "code",
      "execution_count": null,
      "metadata": {
        "id": "xRvn5EW3nN3l"
      },
      "outputs": [],
      "source": [
        "#22.\n",
        "def evenly_spaced_array(start,stop,space):\n",
        "  return np.linspace(start,stop,space)\n"
      ]
    },
    {
      "cell_type": "code",
      "execution_count": null,
      "metadata": {
        "colab": {
          "base_uri": "https://localhost:8080/"
        },
        "id": "gwIUnoY-n6HF",
        "outputId": "0f7fd169-5ac9-4233-fcef-984752b2999a"
      },
      "outputs": [
        {
          "data": {
            "text/plain": [
              "array([1. , 1.5, 2. , 2.5, 3. , 3.5, 4. , 4.5, 5. ])"
            ]
          },
          "execution_count": 11,
          "metadata": {},
          "output_type": "execute_result"
        }
      ],
      "source": [
        "evenly_spaced_array(1,5,9)"
      ]
    },
    {
      "cell_type": "code",
      "execution_count": null,
      "metadata": {
        "id": "jieDTKiZoC0t"
      },
      "outputs": [],
      "source": [
        "#23.\n",
        "def logrithmically_spaced(start,stop,num):\n",
        "  return np.logspace(start,stop,num)"
      ]
    },
    {
      "cell_type": "code",
      "execution_count": null,
      "metadata": {
        "colab": {
          "base_uri": "https://localhost:8080/"
        },
        "id": "TSLE-HRKp-am",
        "outputId": "176fd1d0-d572-4a4d-8163-a072dd1221b6"
      },
      "outputs": [
        {
          "data": {
            "text/plain": [
              "array([   1.        ,    5.62341325,   31.6227766 ,  177.827941  ,\n",
              "       1000.        ])"
            ]
          },
          "execution_count": 13,
          "metadata": {},
          "output_type": "execute_result"
        }
      ],
      "source": [
        "logrithmically_spaced(0,3,5)"
      ]
    },
    {
      "cell_type": "code",
      "execution_count": null,
      "metadata": {
        "id": "fQmyUk-XqFM9"
      },
      "outputs": [],
      "source": [
        "import pandas as pd\n",
        "#24.\n",
        "data = np.random.randint(1,101,size = (5,3))\n",
        "\n",
        "df = pd.DataFrame(data)"
      ]
    },
    {
      "cell_type": "code",
      "execution_count": null,
      "metadata": {
        "colab": {
          "base_uri": "https://localhost:8080/"
        },
        "id": "7dWJNs1xr5GI",
        "outputId": "b20d9a53-71fa-401f-b9be-25de8e834256"
      },
      "outputs": [
        {
          "name": "stdout",
          "output_type": "stream",
          "text": [
            "    0   1   2\n",
            "0  79  35  82\n",
            "1   8  43  27\n",
            "2  40  43  29\n",
            "3  84  31   1\n",
            "4  85  16  17\n"
          ]
        }
      ],
      "source": [
        "print(df)"
      ]
    },
    {
      "cell_type": "code",
      "execution_count": null,
      "metadata": {
        "id": "XPVVCIsksMXC"
      },
      "outputs": [],
      "source": [
        "#25.\n",
        "\n",
        "def replace_negative_with_zero(df, column_name):\n",
        "  df[column_name] = np.where(df[column_name] < 0, 0, df[column_name])\n",
        "  return df"
      ]
    },
    {
      "cell_type": "code",
      "execution_count": null,
      "metadata": {
        "colab": {
          "base_uri": "https://localhost:8080/",
          "height": 175
        },
        "id": "SzOVpuAotJD3",
        "outputId": "66e1f247-54fd-4fe4-8bb4-e6a3315aabac"
      },
      "outputs": [
        {
          "data": {
            "application/vnd.google.colaboratory.intrinsic+json": {
              "summary": "{\n  \"name\": \"df\",\n  \"rows\": 4,\n  \"fields\": [\n    {\n      \"column\": \"A\",\n      \"properties\": {\n        \"dtype\": \"number\",\n        \"std\": 3,\n        \"min\": -4,\n        \"max\": 3,\n        \"num_unique_values\": 4,\n        \"samples\": [\n          -2,\n          -4,\n          1\n        ],\n        \"semantic_type\": \"\",\n        \"description\": \"\"\n      }\n    },\n    {\n      \"column\": \"B\",\n      \"properties\": {\n        \"dtype\": \"number\",\n        \"std\": 4,\n        \"min\": 0,\n        \"max\": 8,\n        \"num_unique_values\": 3,\n        \"samples\": [\n          0,\n          6,\n          8\n        ],\n        \"semantic_type\": \"\",\n        \"description\": \"\"\n      }\n    }\n  ]\n}",
              "type": "dataframe",
              "variable_name": "df"
            },
            "text/html": [
              "\n",
              "  <div id=\"df-3364d37b-9bbe-4830-af26-9207ef530197\" class=\"colab-df-container\">\n",
              "    <div>\n",
              "<style scoped>\n",
              "    .dataframe tbody tr th:only-of-type {\n",
              "        vertical-align: middle;\n",
              "    }\n",
              "\n",
              "    .dataframe tbody tr th {\n",
              "        vertical-align: top;\n",
              "    }\n",
              "\n",
              "    .dataframe thead th {\n",
              "        text-align: right;\n",
              "    }\n",
              "</style>\n",
              "<table border=\"1\" class=\"dataframe\">\n",
              "  <thead>\n",
              "    <tr style=\"text-align: right;\">\n",
              "      <th></th>\n",
              "      <th>A</th>\n",
              "      <th>B</th>\n",
              "    </tr>\n",
              "  </thead>\n",
              "  <tbody>\n",
              "    <tr>\n",
              "      <th>0</th>\n",
              "      <td>1</td>\n",
              "      <td>0</td>\n",
              "    </tr>\n",
              "    <tr>\n",
              "      <th>1</th>\n",
              "      <td>-2</td>\n",
              "      <td>6</td>\n",
              "    </tr>\n",
              "    <tr>\n",
              "      <th>2</th>\n",
              "      <td>3</td>\n",
              "      <td>0</td>\n",
              "    </tr>\n",
              "    <tr>\n",
              "      <th>3</th>\n",
              "      <td>-4</td>\n",
              "      <td>8</td>\n",
              "    </tr>\n",
              "  </tbody>\n",
              "</table>\n",
              "</div>\n",
              "    <div class=\"colab-df-buttons\">\n",
              "\n",
              "  <div class=\"colab-df-container\">\n",
              "    <button class=\"colab-df-convert\" onclick=\"convertToInteractive('df-3364d37b-9bbe-4830-af26-9207ef530197')\"\n",
              "            title=\"Convert this dataframe to an interactive table.\"\n",
              "            style=\"display:none;\">\n",
              "\n",
              "  <svg xmlns=\"http://www.w3.org/2000/svg\" height=\"24px\" viewBox=\"0 -960 960 960\">\n",
              "    <path d=\"M120-120v-720h720v720H120Zm60-500h600v-160H180v160Zm220 220h160v-160H400v160Zm0 220h160v-160H400v160ZM180-400h160v-160H180v160Zm440 0h160v-160H620v160ZM180-180h160v-160H180v160Zm440 0h160v-160H620v160Z\"/>\n",
              "  </svg>\n",
              "    </button>\n",
              "\n",
              "  <style>\n",
              "    .colab-df-container {\n",
              "      display:flex;\n",
              "      gap: 12px;\n",
              "    }\n",
              "\n",
              "    .colab-df-convert {\n",
              "      background-color: #E8F0FE;\n",
              "      border: none;\n",
              "      border-radius: 50%;\n",
              "      cursor: pointer;\n",
              "      display: none;\n",
              "      fill: #1967D2;\n",
              "      height: 32px;\n",
              "      padding: 0 0 0 0;\n",
              "      width: 32px;\n",
              "    }\n",
              "\n",
              "    .colab-df-convert:hover {\n",
              "      background-color: #E2EBFA;\n",
              "      box-shadow: 0px 1px 2px rgba(60, 64, 67, 0.3), 0px 1px 3px 1px rgba(60, 64, 67, 0.15);\n",
              "      fill: #174EA6;\n",
              "    }\n",
              "\n",
              "    .colab-df-buttons div {\n",
              "      margin-bottom: 4px;\n",
              "    }\n",
              "\n",
              "    [theme=dark] .colab-df-convert {\n",
              "      background-color: #3B4455;\n",
              "      fill: #D2E3FC;\n",
              "    }\n",
              "\n",
              "    [theme=dark] .colab-df-convert:hover {\n",
              "      background-color: #434B5C;\n",
              "      box-shadow: 0px 1px 3px 1px rgba(0, 0, 0, 0.15);\n",
              "      filter: drop-shadow(0px 1px 2px rgba(0, 0, 0, 0.3));\n",
              "      fill: #FFFFFF;\n",
              "    }\n",
              "  </style>\n",
              "\n",
              "    <script>\n",
              "      const buttonEl =\n",
              "        document.querySelector('#df-3364d37b-9bbe-4830-af26-9207ef530197 button.colab-df-convert');\n",
              "      buttonEl.style.display =\n",
              "        google.colab.kernel.accessAllowed ? 'block' : 'none';\n",
              "\n",
              "      async function convertToInteractive(key) {\n",
              "        const element = document.querySelector('#df-3364d37b-9bbe-4830-af26-9207ef530197');\n",
              "        const dataTable =\n",
              "          await google.colab.kernel.invokeFunction('convertToInteractive',\n",
              "                                                    [key], {});\n",
              "        if (!dataTable) return;\n",
              "\n",
              "        const docLinkHtml = 'Like what you see? Visit the ' +\n",
              "          '<a target=\"_blank\" href=https://colab.research.google.com/notebooks/data_table.ipynb>data table notebook</a>'\n",
              "          + ' to learn more about interactive tables.';\n",
              "        element.innerHTML = '';\n",
              "        dataTable['output_type'] = 'display_data';\n",
              "        await google.colab.output.renderOutput(dataTable, element);\n",
              "        const docLink = document.createElement('div');\n",
              "        docLink.innerHTML = docLinkHtml;\n",
              "        element.appendChild(docLink);\n",
              "      }\n",
              "    </script>\n",
              "  </div>\n",
              "\n",
              "\n",
              "<div id=\"df-54567c01-3fd1-4231-95ed-87baf66fe476\">\n",
              "  <button class=\"colab-df-quickchart\" onclick=\"quickchart('df-54567c01-3fd1-4231-95ed-87baf66fe476')\"\n",
              "            title=\"Suggest charts\"\n",
              "            style=\"display:none;\">\n",
              "\n",
              "<svg xmlns=\"http://www.w3.org/2000/svg\" height=\"24px\"viewBox=\"0 0 24 24\"\n",
              "     width=\"24px\">\n",
              "    <g>\n",
              "        <path d=\"M19 3H5c-1.1 0-2 .9-2 2v14c0 1.1.9 2 2 2h14c1.1 0 2-.9 2-2V5c0-1.1-.9-2-2-2zM9 17H7v-7h2v7zm4 0h-2V7h2v10zm4 0h-2v-4h2v4z\"/>\n",
              "    </g>\n",
              "</svg>\n",
              "  </button>\n",
              "\n",
              "<style>\n",
              "  .colab-df-quickchart {\n",
              "      --bg-color: #E8F0FE;\n",
              "      --fill-color: #1967D2;\n",
              "      --hover-bg-color: #E2EBFA;\n",
              "      --hover-fill-color: #174EA6;\n",
              "      --disabled-fill-color: #AAA;\n",
              "      --disabled-bg-color: #DDD;\n",
              "  }\n",
              "\n",
              "  [theme=dark] .colab-df-quickchart {\n",
              "      --bg-color: #3B4455;\n",
              "      --fill-color: #D2E3FC;\n",
              "      --hover-bg-color: #434B5C;\n",
              "      --hover-fill-color: #FFFFFF;\n",
              "      --disabled-bg-color: #3B4455;\n",
              "      --disabled-fill-color: #666;\n",
              "  }\n",
              "\n",
              "  .colab-df-quickchart {\n",
              "    background-color: var(--bg-color);\n",
              "    border: none;\n",
              "    border-radius: 50%;\n",
              "    cursor: pointer;\n",
              "    display: none;\n",
              "    fill: var(--fill-color);\n",
              "    height: 32px;\n",
              "    padding: 0;\n",
              "    width: 32px;\n",
              "  }\n",
              "\n",
              "  .colab-df-quickchart:hover {\n",
              "    background-color: var(--hover-bg-color);\n",
              "    box-shadow: 0 1px 2px rgba(60, 64, 67, 0.3), 0 1px 3px 1px rgba(60, 64, 67, 0.15);\n",
              "    fill: var(--button-hover-fill-color);\n",
              "  }\n",
              "\n",
              "  .colab-df-quickchart-complete:disabled,\n",
              "  .colab-df-quickchart-complete:disabled:hover {\n",
              "    background-color: var(--disabled-bg-color);\n",
              "    fill: var(--disabled-fill-color);\n",
              "    box-shadow: none;\n",
              "  }\n",
              "\n",
              "  .colab-df-spinner {\n",
              "    border: 2px solid var(--fill-color);\n",
              "    border-color: transparent;\n",
              "    border-bottom-color: var(--fill-color);\n",
              "    animation:\n",
              "      spin 1s steps(1) infinite;\n",
              "  }\n",
              "\n",
              "  @keyframes spin {\n",
              "    0% {\n",
              "      border-color: transparent;\n",
              "      border-bottom-color: var(--fill-color);\n",
              "      border-left-color: var(--fill-color);\n",
              "    }\n",
              "    20% {\n",
              "      border-color: transparent;\n",
              "      border-left-color: var(--fill-color);\n",
              "      border-top-color: var(--fill-color);\n",
              "    }\n",
              "    30% {\n",
              "      border-color: transparent;\n",
              "      border-left-color: var(--fill-color);\n",
              "      border-top-color: var(--fill-color);\n",
              "      border-right-color: var(--fill-color);\n",
              "    }\n",
              "    40% {\n",
              "      border-color: transparent;\n",
              "      border-right-color: var(--fill-color);\n",
              "      border-top-color: var(--fill-color);\n",
              "    }\n",
              "    60% {\n",
              "      border-color: transparent;\n",
              "      border-right-color: var(--fill-color);\n",
              "    }\n",
              "    80% {\n",
              "      border-color: transparent;\n",
              "      border-right-color: var(--fill-color);\n",
              "      border-bottom-color: var(--fill-color);\n",
              "    }\n",
              "    90% {\n",
              "      border-color: transparent;\n",
              "      border-bottom-color: var(--fill-color);\n",
              "    }\n",
              "  }\n",
              "</style>\n",
              "\n",
              "  <script>\n",
              "    async function quickchart(key) {\n",
              "      const quickchartButtonEl =\n",
              "        document.querySelector('#' + key + ' button');\n",
              "      quickchartButtonEl.disabled = true;  // To prevent multiple clicks.\n",
              "      quickchartButtonEl.classList.add('colab-df-spinner');\n",
              "      try {\n",
              "        const charts = await google.colab.kernel.invokeFunction(\n",
              "            'suggestCharts', [key], {});\n",
              "      } catch (error) {\n",
              "        console.error('Error during call to suggestCharts:', error);\n",
              "      }\n",
              "      quickchartButtonEl.classList.remove('colab-df-spinner');\n",
              "      quickchartButtonEl.classList.add('colab-df-quickchart-complete');\n",
              "    }\n",
              "    (() => {\n",
              "      let quickchartButtonEl =\n",
              "        document.querySelector('#df-54567c01-3fd1-4231-95ed-87baf66fe476 button');\n",
              "      quickchartButtonEl.style.display =\n",
              "        google.colab.kernel.accessAllowed ? 'block' : 'none';\n",
              "    })();\n",
              "  </script>\n",
              "</div>\n",
              "\n",
              "  <div id=\"id_98f74928-5fa6-4730-b5e4-378f14a7dad2\">\n",
              "    <style>\n",
              "      .colab-df-generate {\n",
              "        background-color: #E8F0FE;\n",
              "        border: none;\n",
              "        border-radius: 50%;\n",
              "        cursor: pointer;\n",
              "        display: none;\n",
              "        fill: #1967D2;\n",
              "        height: 32px;\n",
              "        padding: 0 0 0 0;\n",
              "        width: 32px;\n",
              "      }\n",
              "\n",
              "      .colab-df-generate:hover {\n",
              "        background-color: #E2EBFA;\n",
              "        box-shadow: 0px 1px 2px rgba(60, 64, 67, 0.3), 0px 1px 3px 1px rgba(60, 64, 67, 0.15);\n",
              "        fill: #174EA6;\n",
              "      }\n",
              "\n",
              "      [theme=dark] .colab-df-generate {\n",
              "        background-color: #3B4455;\n",
              "        fill: #D2E3FC;\n",
              "      }\n",
              "\n",
              "      [theme=dark] .colab-df-generate:hover {\n",
              "        background-color: #434B5C;\n",
              "        box-shadow: 0px 1px 3px 1px rgba(0, 0, 0, 0.15);\n",
              "        filter: drop-shadow(0px 1px 2px rgba(0, 0, 0, 0.3));\n",
              "        fill: #FFFFFF;\n",
              "      }\n",
              "    </style>\n",
              "    <button class=\"colab-df-generate\" onclick=\"generateWithVariable('df')\"\n",
              "            title=\"Generate code using this dataframe.\"\n",
              "            style=\"display:none;\">\n",
              "\n",
              "  <svg xmlns=\"http://www.w3.org/2000/svg\" height=\"24px\"viewBox=\"0 0 24 24\"\n",
              "       width=\"24px\">\n",
              "    <path d=\"M7,19H8.4L18.45,9,17,7.55,7,17.6ZM5,21V16.75L18.45,3.32a2,2,0,0,1,2.83,0l1.4,1.43a1.91,1.91,0,0,1,.58,1.4,1.91,1.91,0,0,1-.58,1.4L9.25,21ZM18.45,9,17,7.55Zm-12,3A5.31,5.31,0,0,0,4.9,8.1,5.31,5.31,0,0,0,1,6.5,5.31,5.31,0,0,0,4.9,4.9,5.31,5.31,0,0,0,6.5,1,5.31,5.31,0,0,0,8.1,4.9,5.31,5.31,0,0,0,12,6.5,5.46,5.46,0,0,0,6.5,12Z\"/>\n",
              "  </svg>\n",
              "    </button>\n",
              "    <script>\n",
              "      (() => {\n",
              "      const buttonEl =\n",
              "        document.querySelector('#id_98f74928-5fa6-4730-b5e4-378f14a7dad2 button.colab-df-generate');\n",
              "      buttonEl.style.display =\n",
              "        google.colab.kernel.accessAllowed ? 'block' : 'none';\n",
              "\n",
              "      buttonEl.onclick = () => {\n",
              "        google.colab.notebook.generateWithVariable('df');\n",
              "      }\n",
              "      })();\n",
              "    </script>\n",
              "  </div>\n",
              "\n",
              "    </div>\n",
              "  </div>\n"
            ],
            "text/plain": [
              "   A  B\n",
              "0  1  0\n",
              "1 -2  6\n",
              "2  3  0\n",
              "3 -4  8"
            ]
          },
          "execution_count": 19,
          "metadata": {},
          "output_type": "execute_result"
        }
      ],
      "source": [
        "data = {'A': [1, -2, 3, -4],\n",
        "        'B': [-5, 6, -7, 8]}\n",
        "\n",
        "df = pd.DataFrame(data)\n",
        "replace_negative_with_zero(df,\"B\")"
      ]
    },
    {
      "cell_type": "code",
      "execution_count": null,
      "metadata": {
        "colab": {
          "base_uri": "https://localhost:8080/"
        },
        "id": "9NH5JfpJFhpq",
        "outputId": "c7f5bb49-3f94-448a-fbba-bba606ea2eaf"
      },
      "outputs": [
        {
          "data": {
            "text/plain": [
              "30"
            ]
          },
          "execution_count": 20,
          "metadata": {},
          "output_type": "execute_result"
        }
      ],
      "source": [
        "#26.\n",
        "arr = np.array([10,20,30,40,50])\n",
        "arr[2]"
      ]
    },
    {
      "cell_type": "code",
      "execution_count": null,
      "metadata": {
        "colab": {
          "base_uri": "https://localhost:8080/"
        },
        "id": "DYL_X6PnGHAp",
        "outputId": "03b4c654-be39-4503-8618-fbf1c84d6b57"
      },
      "outputs": [
        {
          "data": {
            "text/plain": [
              "6"
            ]
          },
          "execution_count": 21,
          "metadata": {},
          "output_type": "execute_result"
        }
      ],
      "source": [
        "#27.\n",
        "arr_2d = np.array([[1,2,3],\n",
        "                   [4,5,6],\n",
        "                   [7,8,9]])\n",
        "arr_2d[1,2]"
      ]
    },
    {
      "cell_type": "code",
      "execution_count": null,
      "metadata": {
        "colab": {
          "base_uri": "https://localhost:8080/"
        },
        "id": "VgSHBbM2Gn4K",
        "outputId": "3cd54af0-2c3c-452e-f3bd-484eb69e3f08"
      },
      "outputs": [
        {
          "data": {
            "text/plain": [
              "array([ 8, 10,  7])"
            ]
          },
          "execution_count": 22,
          "metadata": {},
          "output_type": "execute_result"
        }
      ],
      "source": [
        "#28.\n",
        "arr = np.array([3,8,2,10,5,7])\n",
        "arr[arr>5]"
      ]
    },
    {
      "cell_type": "code",
      "execution_count": null,
      "metadata": {
        "colab": {
          "base_uri": "https://localhost:8080/"
        },
        "id": "C8X5seIbHHMK",
        "outputId": "b768360a-a5af-4e5d-9cd1-40a17899ae26"
      },
      "outputs": [
        {
          "data": {
            "text/plain": [
              "[3, 4, 5]"
            ]
          },
          "execution_count": 24,
          "metadata": {},
          "output_type": "execute_result"
        }
      ],
      "source": [
        "#29.\n",
        "arr = [1,2,3,4,5,6,7,8,9]\n",
        "arr[2:5]"
      ]
    },
    {
      "cell_type": "code",
      "execution_count": null,
      "metadata": {
        "id": "V1b3R25EHZla"
      },
      "outputs": [],
      "source": [
        "#30.\n",
        "arr2d = np.array([[1,2,3],\n",
        "                 [4,5,6],\n",
        "                 [7,8,9]])\n",
        "sub_array = arr2d[0:2,1:3]"
      ]
    },
    {
      "cell_type": "code",
      "execution_count": null,
      "metadata": {
        "colab": {
          "base_uri": "https://localhost:8080/"
        },
        "id": "1BT3JlwAJU6c",
        "outputId": "4833b282-1579-4460-a55b-051b8b53a3ea"
      },
      "outputs": [
        {
          "output_type": "execute_result",
          "data": {
            "text/plain": [
              "array([[2, 3],\n",
              "       [5, 6]])"
            ]
          },
          "metadata": {},
          "execution_count": 3
        }
      ],
      "source": [
        "sub_array"
      ]
    },
    {
      "cell_type": "code",
      "source": [
        "#31.\n",
        "def extract_element(arr, indices):\n",
        "    result = np.empty((indices.shape[0]), dtype=arr.dtype)\n",
        "    for i in range(indices.shape[0]):\n",
        "        result[i] = arr[indices[i][0], indices[i][1]]\n",
        "    return result"
      ],
      "metadata": {
        "id": "O9kmEw6e6F8D"
      },
      "execution_count": null,
      "outputs": []
    },
    {
      "cell_type": "code",
      "source": [
        "arr = np.array([[1,2,3],[4,5,6],[7,8,9]])\n",
        "indices = np.array([[0,1],[1,2],[2,0]])\n",
        "extract_element(arr,indices)"
      ],
      "metadata": {
        "colab": {
          "base_uri": "https://localhost:8080/"
        },
        "id": "5Xu2pSYD8xyL",
        "outputId": "054bc55d-56f9-488f-8d91-9abe79595624"
      },
      "execution_count": null,
      "outputs": [
        {
          "output_type": "execute_result",
          "data": {
            "text/plain": [
              "array([2, 6, 7])"
            ]
          },
          "metadata": {},
          "execution_count": 3
        }
      ]
    },
    {
      "cell_type": "code",
      "source": [
        "#32.\n",
        "def filter_greter_than(arr,thresold):\n",
        "  return arr[arr>thresold]\n",
        "arr = np.array([1,2,3,4,5,6,7,8,9])\n",
        "filter_greter_than(arr,5)"
      ],
      "metadata": {
        "id": "kVyOfMgi91i4",
        "colab": {
          "base_uri": "https://localhost:8080/"
        },
        "outputId": "dde4da20-97bb-43a2-8bcd-51ea03b1d456"
      },
      "execution_count": null,
      "outputs": [
        {
          "output_type": "execute_result",
          "data": {
            "text/plain": [
              "array([6, 7, 8, 9])"
            ]
          },
          "metadata": {},
          "execution_count": 6
        }
      ]
    },
    {
      "cell_type": "code",
      "source": [
        "#33.\n",
        "def extract_element_3d(arr, indices):\n",
        "    result = np.empty((indices.shape[0]), dtype=arr.dtype)\n",
        "    for i in range(indices.shape[0]):\n",
        "        result[i] = arr[indices[i][0], indices[i][1], indices[i][2]]\n",
        "    return result"
      ],
      "metadata": {
        "id": "Xt4-Syp1ivFT"
      },
      "execution_count": null,
      "outputs": []
    },
    {
      "cell_type": "code",
      "source": [
        "arr = np.array([[[1, 2, 3], [4, 5, 6]], [[7, 8, 9], [10, 11, 12]]])\n",
        "indices = np.array([[0, 1, 0], [1, 0, 2]])\n",
        "extract_element_3d(arr,indices)"
      ],
      "metadata": {
        "colab": {
          "base_uri": "https://localhost:8080/"
        },
        "id": "wNtROm_mmN9q",
        "outputId": "76c8859f-03df-44c1-f579-b0b440309be1"
      },
      "execution_count": null,
      "outputs": [
        {
          "output_type": "execute_result",
          "data": {
            "text/plain": [
              "array([4, 9])"
            ]
          },
          "metadata": {},
          "execution_count": 11
        }
      ]
    },
    {
      "cell_type": "code",
      "source": [
        "#34.\n",
        "def filter_arr(arr,condition1,condition2):\n",
        "    filtered_arr =  arr[(condition1) & (condition2)]\n",
        "    return filtered_arr"
      ],
      "metadata": {
        "id": "NWJCMG7EmdMR"
      },
      "execution_count": null,
      "outputs": []
    },
    {
      "cell_type": "code",
      "source": [
        "arr = np.array([1, 2, 3, 4, 5, 6, 7, 8, 9])\n",
        "condition1 = arr > 3\n",
        "condition2 = arr < 8\n",
        "filtered_arr = filter_arr(arr, condition1, condition2)\n",
        "print(filtered_arr)"
      ],
      "metadata": {
        "colab": {
          "base_uri": "https://localhost:8080/"
        },
        "id": "v8H5bDrzo8lE",
        "outputId": "86eabfd8-4c6a-45d0-9b88-79f78863bf3b"
      },
      "execution_count": null,
      "outputs": [
        {
          "output_type": "stream",
          "name": "stdout",
          "text": [
            "[4 5 6 7]\n"
          ]
        }
      ]
    },
    {
      "cell_type": "code",
      "source": [
        "#35.\n",
        "def extract_row_column(arr,row_indices,col_indices):\n",
        "  result = np.empty((row_indices.shape[0]), dtype=arr.dtype)\n",
        "  for i in range(row_indices.shape[0]):\n",
        "      result[i] = arr[row_indices[i], col_indices[i]]\n",
        "  return result"
      ],
      "metadata": {
        "id": "-qEi8KVxpEJW"
      },
      "execution_count": null,
      "outputs": []
    },
    {
      "cell_type": "code",
      "source": [
        "arr = np.array([[1,2,3],[4,5,6],[7,8,9]])\n",
        "row_indices = np.array([0,1,2])\n",
        "col_indices = np.array([1,2,0])\n",
        "extract_row_column(arr,row_indices,col_indices)"
      ],
      "metadata": {
        "colab": {
          "base_uri": "https://localhost:8080/"
        },
        "id": "oSOS8PI8qdpD",
        "outputId": "1260b029-103b-4fdf-b597-b65d19cd07ac"
      },
      "execution_count": null,
      "outputs": [
        {
          "output_type": "execute_result",
          "data": {
            "text/plain": [
              "array([2, 6, 7])"
            ]
          },
          "metadata": {},
          "execution_count": 23
        }
      ]
    },
    {
      "cell_type": "code",
      "source": [
        "#36.\n",
        "arr = np.random.randint(1,10,size = (3,3))\n",
        "arr"
      ],
      "metadata": {
        "colab": {
          "base_uri": "https://localhost:8080/"
        },
        "id": "0tw9YEBfquzn",
        "outputId": "e07d1be3-b5d8-4dae-bdfe-ff7996e0bd61"
      },
      "execution_count": null,
      "outputs": [
        {
          "output_type": "execute_result",
          "data": {
            "text/plain": [
              "array([[7, 9, 5],\n",
              "       [4, 9, 7],\n",
              "       [6, 4, 8]])"
            ]
          },
          "metadata": {},
          "execution_count": 25
        }
      ]
    },
    {
      "cell_type": "code",
      "source": [
        "arr+5"
      ],
      "metadata": {
        "colab": {
          "base_uri": "https://localhost:8080/"
        },
        "id": "bv7QEnDFs1An",
        "outputId": "b55064ad-2d59-4365-bb11-6b710196e235"
      },
      "execution_count": null,
      "outputs": [
        {
          "output_type": "execute_result",
          "data": {
            "text/plain": [
              "array([[12, 14, 10],\n",
              "       [ 9, 14, 12],\n",
              "       [11,  9, 13]])"
            ]
          },
          "metadata": {},
          "execution_count": 26
        }
      ]
    },
    {
      "cell_type": "code",
      "source": [
        "#37.\n",
        "arr1 = np.random.randint(1,5,(3,1))\n",
        "arr2 = np.random.randint(1,10,(3,4))\n",
        "arr1"
      ],
      "metadata": {
        "colab": {
          "base_uri": "https://localhost:8080/"
        },
        "id": "Dov6duGOs5Ib",
        "outputId": "dd77f004-417c-4c9e-eaf8-7d44c243c99b"
      },
      "execution_count": null,
      "outputs": [
        {
          "output_type": "execute_result",
          "data": {
            "text/plain": [
              "array([[2],\n",
              "       [3],\n",
              "       [4]])"
            ]
          },
          "metadata": {},
          "execution_count": 32
        }
      ]
    },
    {
      "cell_type": "code",
      "source": [
        "arr2"
      ],
      "metadata": {
        "colab": {
          "base_uri": "https://localhost:8080/"
        },
        "id": "nE9-v-tQtirD",
        "outputId": "b6b5246e-4134-4402-c466-070402902eaa"
      },
      "execution_count": null,
      "outputs": [
        {
          "output_type": "execute_result",
          "data": {
            "text/plain": [
              "array([[5, 7, 2, 7],\n",
              "       [1, 9, 7, 6],\n",
              "       [4, 4, 6, 7]])"
            ]
          },
          "metadata": {},
          "execution_count": 28
        }
      ]
    },
    {
      "cell_type": "code",
      "source": [
        "np.multiply(arr1,arr2)"
      ],
      "metadata": {
        "colab": {
          "base_uri": "https://localhost:8080/"
        },
        "id": "XEcSc4dstkI4",
        "outputId": "3ce56e3c-0fdf-4d73-fa32-0c54b52d402a"
      },
      "execution_count": null,
      "outputs": [
        {
          "output_type": "execute_result",
          "data": {
            "text/plain": [
              "array([[ 4, 10,  8, 18],\n",
              "       [27, 27, 18, 27],\n",
              "       [12,  8, 36, 12]])"
            ]
          },
          "metadata": {},
          "execution_count": 33
        }
      ]
    },
    {
      "cell_type": "code",
      "source": [
        "#38.\n",
        "arr1 = np.random.randint(1,5,(1,4))\n",
        "arr2 = np.random.randint(1,10,(4,3))\n",
        "arr1"
      ],
      "metadata": {
        "colab": {
          "base_uri": "https://localhost:8080/"
        },
        "id": "9iBU2LjrtpHL",
        "outputId": "4f463a42-91cf-4622-f3d3-dc9fc7c57f92"
      },
      "execution_count": null,
      "outputs": [
        {
          "output_type": "execute_result",
          "data": {
            "text/plain": [
              "array([[1, 3, 3, 3]])"
            ]
          },
          "metadata": {},
          "execution_count": 34
        }
      ]
    },
    {
      "cell_type": "code",
      "source": [
        "arr2"
      ],
      "metadata": {
        "colab": {
          "base_uri": "https://localhost:8080/"
        },
        "id": "6vHcyMeZvSMa",
        "outputId": "8e0e5dca-dd5a-4621-90b0-9a5438d0fdd1"
      },
      "execution_count": null,
      "outputs": [
        {
          "output_type": "execute_result",
          "data": {
            "text/plain": [
              "array([[2, 8, 5],\n",
              "       [4, 2, 1],\n",
              "       [5, 9, 1],\n",
              "       [5, 7, 9]])"
            ]
          },
          "metadata": {},
          "execution_count": 35
        }
      ]
    },
    {
      "cell_type": "code",
      "source": [
        "arr1_reshaped = arr1.reshape(-1, 1)\n",
        "\n",
        "result = arr2 + arr1_reshaped\n",
        "print(result)"
      ],
      "metadata": {
        "colab": {
          "base_uri": "https://localhost:8080/"
        },
        "id": "8vSDXJesvTJ_",
        "outputId": "8b3a1f8f-69a2-4223-db8d-65bbdf152492"
      },
      "execution_count": null,
      "outputs": [
        {
          "output_type": "stream",
          "name": "stdout",
          "text": [
            "[[ 3  9  6]\n",
            " [ 7  5  4]\n",
            " [ 8 12  4]\n",
            " [ 8 10 12]]\n"
          ]
        }
      ]
    },
    {
      "cell_type": "code",
      "source": [
        "#39.\n",
        "arr1 = np.random.randint(1,10,(3,1))\n",
        "arr2 = np.random.randint(1,5,(1,3))\n",
        "# add array using brodcasting\n",
        "np.add(arr1,arr2)"
      ],
      "metadata": {
        "id": "ODL-bqqKvbyn",
        "colab": {
          "base_uri": "https://localhost:8080/"
        },
        "outputId": "80b936b3-2162-4e2d-c753-2a68100e09b7"
      },
      "execution_count": null,
      "outputs": [
        {
          "output_type": "execute_result",
          "data": {
            "text/plain": [
              "array([[ 3,  6,  3],\n",
              "       [ 3,  6,  3],\n",
              "       [ 9, 12,  9]])"
            ]
          },
          "metadata": {},
          "execution_count": 3
        }
      ]
    },
    {
      "cell_type": "code",
      "source": [
        "#40\n",
        "\n",
        "arr1 = np.random.randint(1, 10, (2, 3))\n",
        "arr2 = np.random.randint(1, 15, (2, 2))\n",
        "\n",
        "# Reshape arr2 to match the shape of arr1\n",
        "reshaped_arr2 = arr2.reshape(2, 2, 1)\n",
        "\n",
        "# Perform multiplication using broadcasting\n",
        "result = reshaped_arr2 * arr1\n",
        "\n",
        "print(result)"
      ],
      "metadata": {
        "colab": {
          "base_uri": "https://localhost:8080/"
        },
        "id": "0TerhLGsUn9N",
        "outputId": "1895a570-b512-414c-c40d-2670e4e2ea46"
      },
      "execution_count": null,
      "outputs": [
        {
          "output_type": "stream",
          "name": "stdout",
          "text": [
            "[[[  5   4   5]\n",
            "  [ 18   8   4]]\n",
            "\n",
            " [[ 50  40  50]\n",
            "  [117  52  26]]]\n"
          ]
        }
      ]
    },
    {
      "cell_type": "code",
      "source": [
        "#41\n",
        "arr = np.array([[1,2,3],[4,5,6]])\n",
        "np.mean(arr,axis = 1)\n"
      ],
      "metadata": {
        "colab": {
          "base_uri": "https://localhost:8080/"
        },
        "id": "m8h2XHAPVuG0",
        "outputId": "bcb5ec15-231d-4411-b687-f75a2f0adcde"
      },
      "execution_count": null,
      "outputs": [
        {
          "output_type": "execute_result",
          "data": {
            "text/plain": [
              "array([2., 5.])"
            ]
          },
          "metadata": {},
          "execution_count": 19
        }
      ]
    },
    {
      "cell_type": "code",
      "source": [
        "#42\n",
        "arr = np.array([[1,2,3],[4,5,6]])\n",
        "np.max(arr,axis = 1)"
      ],
      "metadata": {
        "colab": {
          "base_uri": "https://localhost:8080/"
        },
        "id": "ivz7qznH3J2P",
        "outputId": "3ef8e51e-a334-4084-c02b-d4e3cb88f7d9"
      },
      "execution_count": null,
      "outputs": [
        {
          "output_type": "execute_result",
          "data": {
            "text/plain": [
              "array([3, 6])"
            ]
          },
          "metadata": {},
          "execution_count": 22
        }
      ]
    },
    {
      "cell_type": "code",
      "source": [
        "#43\n",
        "arr = np.array([[1,2,3],[4,5,6]])\n",
        "np.argmax(arr,axis = 0)"
      ],
      "metadata": {
        "colab": {
          "base_uri": "https://localhost:8080/"
        },
        "id": "7hbpqavw3rNZ",
        "outputId": "3916b2c6-6c4a-41df-83de-7bb512d285df"
      },
      "execution_count": null,
      "outputs": [
        {
          "output_type": "execute_result",
          "data": {
            "text/plain": [
              "array([1, 1, 1])"
            ]
          },
          "metadata": {},
          "execution_count": 23
        }
      ]
    },
    {
      "cell_type": "code",
      "source": [
        "#44\n",
        "arr = np.array([[1, 2, 3], [4, 5, 6]])\n",
        "\n",
        "def moving_sum(arr):\n",
        "  result = np.zeros_like(arr)\n",
        "  for i in range(arr.shape[0]):\n",
        "    for j in range(1, arr.shape[1]):\n",
        "      result[i, j] = result[i, j - 1] + arr[i, j]\n",
        "  return result\n",
        "\n",
        "moving_sum_array = moving_sum(arr)\n",
        "print(moving_sum_array)"
      ],
      "metadata": {
        "colab": {
          "base_uri": "https://localhost:8080/"
        },
        "id": "AfXANfyP62bA",
        "outputId": "0d084c9f-689e-4c62-960c-372e91d027bd"
      },
      "execution_count": null,
      "outputs": [
        {
          "output_type": "stream",
          "name": "stdout",
          "text": [
            "[[ 0  2  5]\n",
            " [ 0  5 11]]\n"
          ]
        }
      ]
    },
    {
      "cell_type": "code",
      "source": [
        "#45\n",
        "arr = np.array([[1,2,3],[4,5,6]])\n",
        "arr%2==0"
      ],
      "metadata": {
        "colab": {
          "base_uri": "https://localhost:8080/"
        },
        "id": "vaiUcvrf7gew",
        "outputId": "558c21e6-1198-4ea8-ab20-d0576d0f5a1d"
      },
      "execution_count": null,
      "outputs": [
        {
          "output_type": "execute_result",
          "data": {
            "text/plain": [
              "array([[False,  True, False],\n",
              "       [ True, False,  True]])"
            ]
          },
          "metadata": {},
          "execution_count": 26
        }
      ]
    },
    {
      "cell_type": "code",
      "source": [
        "#46\n",
        "original_array = np.array([1,2,3,4,5,6])\n",
        "m = 2\n",
        "n = 3\n",
        "reshaped_matrix = np.reshape(original_array,(m,n))\n",
        "print(reshaped_matrix)"
      ],
      "metadata": {
        "colab": {
          "base_uri": "https://localhost:8080/"
        },
        "id": "fRzcRhEg70IK",
        "outputId": "cd990d68-6470-410b-9fa9-77fab679a7c3"
      },
      "execution_count": null,
      "outputs": [
        {
          "output_type": "stream",
          "name": "stdout",
          "text": [
            "[[1 2 3]\n",
            " [4 5 6]]\n"
          ]
        }
      ]
    },
    {
      "cell_type": "code",
      "source": [
        "#47\n",
        "input_matrix = np.array([[1,2,3],[4,5,6]])\n",
        "\n",
        "def flatten_array(input_matrix):\n",
        "  return input_matrix.flatten()\n",
        "\n",
        "flatten_array(input_matrix)"
      ],
      "metadata": {
        "colab": {
          "base_uri": "https://localhost:8080/"
        },
        "id": "2iFQMziH8cmt",
        "outputId": "0155a6d2-7e04-41ca-95ae-8870e675c42c"
      },
      "execution_count": null,
      "outputs": [
        {
          "output_type": "execute_result",
          "data": {
            "text/plain": [
              "array([1, 2, 3, 4, 5, 6])"
            ]
          },
          "metadata": {},
          "execution_count": 32
        }
      ]
    },
    {
      "cell_type": "code",
      "source": [
        "#48\n",
        "arr1 = np.array([[1,2],[3,4]])\n",
        "arr2 = np.array([[5,6],[7,8]])\n",
        "\n",
        "def concat_arrays(arr1,arr2,axis):\n",
        "  return np.concatenate((arr1,arr2),axis = axis)\n",
        "\n",
        "concat_arrays(arr1,arr2,0)"
      ],
      "metadata": {
        "colab": {
          "base_uri": "https://localhost:8080/"
        },
        "id": "2zrbGHlEAWY0",
        "outputId": "603f8552-1be7-4bc0-9df7-99ecddbc8a3a"
      },
      "execution_count": null,
      "outputs": [
        {
          "output_type": "execute_result",
          "data": {
            "text/plain": [
              "array([[1, 2],\n",
              "       [3, 4],\n",
              "       [5, 6],\n",
              "       [7, 8]])"
            ]
          },
          "metadata": {},
          "execution_count": 35
        }
      ]
    },
    {
      "cell_type": "code",
      "source": [
        "concat_arrays(arr1,arr2,1)"
      ],
      "metadata": {
        "colab": {
          "base_uri": "https://localhost:8080/"
        },
        "id": "Snj2Hto9A8vW",
        "outputId": "861b34a4-e68b-46cd-c743-7319c9b2b591"
      },
      "execution_count": null,
      "outputs": [
        {
          "output_type": "execute_result",
          "data": {
            "text/plain": [
              "array([[1, 2, 5, 6],\n",
              "       [3, 4, 7, 8]])"
            ]
          },
          "metadata": {},
          "execution_count": 36
        }
      ]
    },
    {
      "cell_type": "code",
      "source": [
        "#49\n",
        "orginal_array = np.array([[1,2,3],[4,5,6],[7,8,9]])\n",
        "def split_array_into_subarrays(orginal_array, indices_or_sections, axis=0):\n",
        "  return np.split(orginal_array,indices_or_sections, axis=axis)\n",
        "\n",
        "split_array_into_subarrays(orginal_array,3)"
      ],
      "metadata": {
        "colab": {
          "base_uri": "https://localhost:8080/"
        },
        "id": "vFRwiS_dBSk2",
        "outputId": "7f5209be-7b7b-4e37-990a-c1e722c964df"
      },
      "execution_count": null,
      "outputs": [
        {
          "output_type": "execute_result",
          "data": {
            "text/plain": [
              "[array([[1, 2, 3]]), array([[4, 5, 6]]), array([[7, 8, 9]])]"
            ]
          },
          "metadata": {},
          "execution_count": 42
        }
      ]
    },
    {
      "cell_type": "code",
      "source": [
        "#50\n",
        "original_array = np.array([1,2,3,4,5])\n",
        "indices_to_insert = [2,4]\n",
        "values_to_insert = [10,11]\n",
        "indices_to_delete = [1,3]"
      ],
      "metadata": {
        "id": "JKznmC26C-BR"
      },
      "execution_count": null,
      "outputs": []
    },
    {
      "cell_type": "code",
      "source": [
        "def insert_delete_indicies(original_array,indices_to_insert,values_to_insert,indices_to_delete):\n",
        "   array_with_insertation = np.insert(original_array,indices_to_insert,values_to_insert)\n",
        "   result_array = np.delete(array_with_insertation,indices_to_delete)\n",
        "   return result_array"
      ],
      "metadata": {
        "id": "z0_TXoWxDbsI"
      },
      "execution_count": null,
      "outputs": []
    },
    {
      "cell_type": "code",
      "source": [
        "result = insert_delete_indicies(original_array,indices_to_insert,values_to_insert,indices_to_delete)\n",
        "print(result)"
      ],
      "metadata": {
        "colab": {
          "base_uri": "https://localhost:8080/"
        },
        "id": "WFTZBjT6lXEc",
        "outputId": "20e5cf0a-89ee-4bf1-836e-d225309caeab"
      },
      "execution_count": null,
      "outputs": [
        {
          "output_type": "stream",
          "name": "stdout",
          "text": [
            "[ 1 10  4 11  5]\n"
          ]
        }
      ]
    },
    {
      "cell_type": "code",
      "source": [
        "#51\n",
        "arr1 = np.random.randint(1,10,(3,3))\n",
        "arr2 = np.random.randint(1,10,(3,3))\n",
        "print(arr1)\n",
        "print(arr2)\n",
        "addition = np.add(arr1,arr2)\n",
        "print(addition)"
      ],
      "metadata": {
        "colab": {
          "base_uri": "https://localhost:8080/"
        },
        "id": "NOlKF-jzl70H",
        "outputId": "7ebec431-ecf3-4ee8-e5d1-fdc1652bba14"
      },
      "execution_count": null,
      "outputs": [
        {
          "output_type": "stream",
          "name": "stdout",
          "text": [
            "[[8 3 6]\n",
            " [7 2 6]\n",
            " [7 6 7]]\n",
            "[[2 6 8]\n",
            " [8 9 1]\n",
            " [4 2 4]]\n",
            "[[10  9 14]\n",
            " [15 11  7]\n",
            " [11  8 11]]\n"
          ]
        }
      ]
    },
    {
      "cell_type": "code",
      "source": [
        "#52\n",
        "arr1 = np.array([10,9,8,7,6,5,4,3,2,1])\n",
        "arr2 = np.array([1,2,3,4,5,6,7,8,9,10])\n",
        "substract = arr2-arr1\n",
        "print(substract)\n",
        "\n"
      ],
      "metadata": {
        "colab": {
          "base_uri": "https://localhost:8080/"
        },
        "id": "iA_oFgzyoXs-",
        "outputId": "6cf669e2-bdbf-445f-9569-7e8b4c91f399"
      },
      "execution_count": null,
      "outputs": [
        {
          "output_type": "stream",
          "name": "stdout",
          "text": [
            "[-9 -7 -5 -3 -1  1  3  5  7  9]\n"
          ]
        }
      ]
    },
    {
      "cell_type": "code",
      "source": [
        "#53\n",
        "arr1 = np.random.randint(1,5,(3,2))\n",
        "arr2 = np.random.randint(1,5,(3,2))\n",
        "print(arr1)\n",
        "print(arr2)\n",
        "multiplication = arr1*arr2\n",
        "print(multiplication)"
      ],
      "metadata": {
        "colab": {
          "base_uri": "https://localhost:8080/"
        },
        "id": "xpOlFq-NpeDR",
        "outputId": "fc3f93f9-abd3-445e-bb0f-09f5494e2eaf"
      },
      "execution_count": null,
      "outputs": [
        {
          "output_type": "stream",
          "name": "stdout",
          "text": [
            "[[4 4]\n",
            " [4 3]\n",
            " [1 3]]\n",
            "[[3 2]\n",
            " [4 2]\n",
            " [2 1]]\n",
            "[[12  8]\n",
            " [16  6]\n",
            " [ 2  3]]\n"
          ]
        }
      ]
    },
    {
      "cell_type": "code",
      "source": [
        "#54\n",
        "arr1 = np.array([2,4,6,8,10])\n",
        "arr2 = np.array([1,2,3,4,5])\n",
        "divison = arr1 /arr2\n",
        "print(divison)"
      ],
      "metadata": {
        "colab": {
          "base_uri": "https://localhost:8080/"
        },
        "id": "fei3nnc96u-z",
        "outputId": "0e1a9f09-804b-4011-d3a2-3c18e5ab8ec9"
      },
      "execution_count": null,
      "outputs": [
        {
          "output_type": "stream",
          "name": "stdout",
          "text": [
            "[2. 2. 2. 2. 2.]\n"
          ]
        }
      ]
    },
    {
      "cell_type": "code",
      "source": [
        "#55\n",
        "arr1 = np.array([1,2,3,4,5])\n",
        "arr2 = np.array([5,4,3,2,1])\n",
        "result = np.power(arr1,arr2)\n",
        "print(result)"
      ],
      "metadata": {
        "colab": {
          "base_uri": "https://localhost:8080/"
        },
        "id": "Kw2NeJUj7lLm",
        "outputId": "a15b7be2-27a7-4262-db2d-9f93e6cc66b2"
      },
      "execution_count": null,
      "outputs": [
        {
          "output_type": "stream",
          "name": "stdout",
          "text": [
            "[ 1 16 27 16  5]\n"
          ]
        }
      ]
    },
    {
      "cell_type": "code",
      "source": [
        "#56\n",
        "arr = np.array(['hello','world','hello','numpy','hello'])\n",
        "def count_substr(str,substr):\n",
        "  count = 0\n",
        "  for i in str:\n",
        "    if i == substr:\n",
        "      count += 1\n",
        "  return count\n"
      ],
      "metadata": {
        "id": "ql4DwQwt9nky"
      },
      "execution_count": null,
      "outputs": []
    },
    {
      "cell_type": "code",
      "source": [
        "count_substr(arr,'hello')"
      ],
      "metadata": {
        "colab": {
          "base_uri": "https://localhost:8080/"
        },
        "id": "U2wLGXV1-g6k",
        "outputId": "4f2ac319-df19-4b89-bd2d-961681f0acbe"
      },
      "execution_count": null,
      "outputs": [
        {
          "output_type": "execute_result",
          "data": {
            "text/plain": [
              "3"
            ]
          },
          "metadata": {},
          "execution_count": 31
        }
      ]
    },
    {
      "cell_type": "code",
      "source": [
        "#57\n",
        "arr = np.array(['Hello','World','OpenAI','GPT'])\n",
        "def extract_upper(arr):\n",
        "  result = []\n",
        "  for word in arr:\n",
        "    for char in word:\n",
        "      if char.isupper():\n",
        "        result.append(char)\n",
        "  return result"
      ],
      "metadata": {
        "id": "zyusUY0D-8rZ"
      },
      "execution_count": null,
      "outputs": []
    },
    {
      "cell_type": "code",
      "source": [
        "extract_upper(arr)"
      ],
      "metadata": {
        "colab": {
          "base_uri": "https://localhost:8080/"
        },
        "id": "MP-kV4AUAkSU",
        "outputId": "36c501a4-5e3b-414b-b82d-0682ac17cb7a"
      },
      "execution_count": null,
      "outputs": [
        {
          "output_type": "execute_result",
          "data": {
            "text/plain": [
              "['H', 'W', 'O', 'A', 'I', 'G', 'P', 'T']"
            ]
          },
          "metadata": {},
          "execution_count": 40
        }
      ]
    },
    {
      "cell_type": "code",
      "source": [
        "#58\n",
        "arr = np.array(['apple','banana','grapes','pinapple'])\n",
        "\n",
        "def replace_substr(arr,old_substr,new_substr):\n",
        "  return np.char.replace(arr,old_substr,new_substr)\n",
        "\n",
        "\n"
      ],
      "metadata": {
        "id": "OBih-sbkAn-z"
      },
      "execution_count": null,
      "outputs": []
    },
    {
      "cell_type": "code",
      "source": [
        "replace_substr(arr,'apple','orange')"
      ],
      "metadata": {
        "colab": {
          "base_uri": "https://localhost:8080/"
        },
        "id": "q1T-9ojeE2Yl",
        "outputId": "3d4f2062-4fb4-4c84-8288-29cb473219f5"
      },
      "execution_count": null,
      "outputs": [
        {
          "output_type": "execute_result",
          "data": {
            "text/plain": [
              "array(['orange', 'banana', 'grapes', 'pinorange'], dtype='<U9')"
            ]
          },
          "metadata": {},
          "execution_count": 45
        }
      ]
    },
    {
      "cell_type": "code",
      "source": [
        "#59\n",
        "arr1 = np.array(['Hello','World'])\n",
        "arr2 = np.array(['Open','AI'])\n",
        "\n",
        "def concat_arrays(arr1,arr2):\n",
        "    return np.char.add(arr1,arr2)\n"
      ],
      "metadata": {
        "id": "C11r9B8hFAtM"
      },
      "execution_count": null,
      "outputs": []
    },
    {
      "cell_type": "code",
      "source": [
        "concat_arrays(arr1,arr2)"
      ],
      "metadata": {
        "colab": {
          "base_uri": "https://localhost:8080/"
        },
        "id": "_DZxPbEIH7ZH",
        "outputId": "4b54eaf1-deb6-44c6-81de-97c1723792a8"
      },
      "execution_count": null,
      "outputs": [
        {
          "output_type": "execute_result",
          "data": {
            "text/plain": [
              "array(['HelloOpen', 'WorldAI'], dtype='<U9')"
            ]
          },
          "metadata": {},
          "execution_count": 47
        }
      ]
    },
    {
      "cell_type": "code",
      "source": [
        "#60\n",
        "arr = np.array(['apple','banana','grape','pineapple'])\n",
        "\n",
        "\n",
        "def len_longest_eliment(arr):\n",
        "  longest_length = 0\n",
        "  for i in arr:\n",
        "    if len(i) > longest_length:\n",
        "      longest_length = len(i)\n",
        "  return longest_length\n",
        "\n"
      ],
      "metadata": {
        "id": "lJ0LIT_nICse"
      },
      "execution_count": null,
      "outputs": []
    },
    {
      "cell_type": "code",
      "source": [
        "len_longest_eliment(arr)\n"
      ],
      "metadata": {
        "colab": {
          "base_uri": "https://localhost:8080/"
        },
        "id": "bmYi2bPbJD3n",
        "outputId": "808756d8-294a-43ba-ed35-c1e9823f4a98"
      },
      "execution_count": null,
      "outputs": [
        {
          "output_type": "execute_result",
          "data": {
            "text/plain": [
              "9"
            ]
          },
          "metadata": {},
          "execution_count": 60
        }
      ]
    },
    {
      "cell_type": "code",
      "source": [
        "#61\n",
        "dataset = np.random.randint(1,1000,(100))\n",
        "\n",
        "print(\"mean:\",np.mean(dataset))\n",
        "print(\"median:\",np.median(dataset))\n",
        "print(\"variance:\",np.var(dataset))\n",
        "print(\"standard deviation:\",np.std(dataset))\n",
        "\n"
      ],
      "metadata": {
        "colab": {
          "base_uri": "https://localhost:8080/"
        },
        "id": "20FuCIdeJ17m",
        "outputId": "67b4a6ea-db32-46f5-a3d6-abe7d48decb7"
      },
      "execution_count": null,
      "outputs": [
        {
          "output_type": "stream",
          "name": "stdout",
          "text": [
            "mean: 495.11\n",
            "median: 514.5\n",
            "variance: 71391.5379\n",
            "standard deviation: 267.19194954189766\n"
          ]
        }
      ]
    },
    {
      "cell_type": "code",
      "source": [
        "#62\n",
        "dataset = np.random.randint(1,100,(50))\n",
        "dataset\n"
      ],
      "metadata": {
        "colab": {
          "base_uri": "https://localhost:8080/"
        },
        "id": "GuPzg-WVJIam",
        "outputId": "09c27a9a-fc53-4327-bfe6-c6093537c42b"
      },
      "execution_count": null,
      "outputs": [
        {
          "output_type": "execute_result",
          "data": {
            "text/plain": [
              "array([84, 12, 90, 80, 53, 89, 53, 53,  5, 95, 63, 24, 37, 21, 11, 63, 68,\n",
              "       53, 25, 31, 99,  2,  3, 81, 74, 73, 69, 38, 44, 86, 78, 55, 28, 97,\n",
              "       81, 10, 15, 26, 39, 39, 33, 59, 26, 43, 83, 38, 53, 22, 24, 27])"
            ]
          },
          "metadata": {},
          "execution_count": 5
        }
      ]
    },
    {
      "cell_type": "code",
      "source": [
        "print('25 percentile is',np.percentile(dataset,25))\n",
        "print('75 percentile is',np.percentile(dataset,75))\n"
      ],
      "metadata": {
        "colab": {
          "base_uri": "https://localhost:8080/"
        },
        "id": "dHIw1vSWL9MJ",
        "outputId": "6668dcd9-c945-43cd-e2fc-1587f8708ba0"
      },
      "execution_count": null,
      "outputs": [
        {
          "output_type": "stream",
          "name": "stdout",
          "text": [
            "25 percentile is 26.0\n",
            "75 percentile is 73.75\n"
          ]
        }
      ]
    },
    {
      "cell_type": "code",
      "source": [
        "#63\n",
        "arr1 = np.array([1,2,3,4,5])\n",
        "arr2 = np.array([2,4,6,8,10])\n",
        "\n",
        "corelation_coeffecient = np.corrcoef(arr1,arr2)\n",
        "print(\"corelation coefecient is\",corelation_coeffecient)\n"
      ],
      "metadata": {
        "colab": {
          "base_uri": "https://localhost:8080/"
        },
        "id": "iQP0vVXSTXQG",
        "outputId": "a1418f67-5456-4566-cc65-9bc71f507337"
      },
      "execution_count": null,
      "outputs": [
        {
          "output_type": "stream",
          "name": "stdout",
          "text": [
            "corelation coefecient is [[1. 1.]\n",
            " [1. 1.]]\n"
          ]
        }
      ]
    },
    {
      "cell_type": "code",
      "source": [
        "#64\n",
        "mat1 = np.random.randint(1,10,(3,3))\n",
        "mat2 = np.random.randint(1,10,(3,3))\n",
        "print(mat1)\n",
        "print(mat2)\n",
        "print('matrix multiplication is')\n",
        "np.dot(mat1,mat2)"
      ],
      "metadata": {
        "colab": {
          "base_uri": "https://localhost:8080/"
        },
        "id": "7c3pHqptWJaS",
        "outputId": "480f7414-c5f8-49bc-a732-f1e0febc8139"
      },
      "execution_count": null,
      "outputs": [
        {
          "output_type": "stream",
          "name": "stdout",
          "text": [
            "[[9 4 8]\n",
            " [5 6 7]\n",
            " [4 7 1]]\n",
            "[[1 3 6]\n",
            " [7 5 5]\n",
            " [3 9 9]]\n",
            "matrix multiplication is\n"
          ]
        },
        {
          "output_type": "execute_result",
          "data": {
            "text/plain": [
              "array([[ 61, 119, 146],\n",
              "       [ 68, 108, 123],\n",
              "       [ 56,  56,  68]])"
            ]
          },
          "metadata": {},
          "execution_count": 11
        }
      ]
    },
    {
      "cell_type": "code",
      "source": [
        "#65\n",
        "arr = np.random.randint(1,1000,(50))\n",
        "arr"
      ],
      "metadata": {
        "colab": {
          "base_uri": "https://localhost:8080/"
        },
        "id": "613AfAauYhN1",
        "outputId": "215e96a3-2dde-443e-b42d-19ee67842798"
      },
      "execution_count": null,
      "outputs": [
        {
          "output_type": "execute_result",
          "data": {
            "text/plain": [
              "array([851, 492, 890, 190, 275, 599,  53,  44, 453, 378, 953, 130, 423,\n",
              "       304, 800, 185, 960, 409, 335, 781, 601, 221, 734,  64,  62, 256,\n",
              "       770, 108, 706, 849,  39, 909, 175, 292, 391, 296, 684,  35, 362,\n",
              "       877, 337, 714, 501, 138, 351, 872, 730, 932, 860,  63])"
            ]
          },
          "metadata": {},
          "execution_count": 12
        }
      ]
    },
    {
      "cell_type": "code",
      "source": [
        "print('10th percentile is',np.percentile(arr,10))\n",
        "print('50th percentile is',np.percentile(arr,50))\n",
        "print('90th percentile is',np.percentile(arr,90))\n",
        "print('first quartile is',np.percentile(arr,25))\n",
        "print('third quartile is',np.percentile(arr,75))"
      ],
      "metadata": {
        "colab": {
          "base_uri": "https://localhost:8080/"
        },
        "id": "3cAwfGsNZcX_",
        "outputId": "7c2d18c1-2567-4d9c-9ec1-a4b990accbff"
      },
      "execution_count": null,
      "outputs": [
        {
          "output_type": "stream",
          "name": "stdout",
          "text": [
            "10th percentile is 62.9\n",
            "50th percentile is 400.0\n",
            "90th percentile is 878.3000000000001\n",
            "first quartile is 197.75\n",
            "third quartile is 761.0\n"
          ]
        }
      ]
    },
    {
      "cell_type": "code",
      "source": [
        "#66\n",
        "arr = np.array([2,3,4,5,6,7,8])\n",
        "np.where(arr == 4)"
      ],
      "metadata": {
        "colab": {
          "base_uri": "https://localhost:8080/"
        },
        "id": "_CD3EUgmZ72J",
        "outputId": "9c5545d1-79a4-49fc-ffc9-3864e7e7b956"
      },
      "execution_count": null,
      "outputs": [
        {
          "output_type": "execute_result",
          "data": {
            "text/plain": [
              "(array([2]),)"
            ]
          },
          "metadata": {},
          "execution_count": 18
        }
      ]
    },
    {
      "cell_type": "code",
      "source": [
        "#67\n",
        "arr = np.random.randint(1,15,(15))\n",
        "arr"
      ],
      "metadata": {
        "colab": {
          "base_uri": "https://localhost:8080/"
        },
        "id": "aNAj0M_Bahmw",
        "outputId": "489cb90a-8269-4fad-862b-5213d4a48ae9"
      },
      "execution_count": null,
      "outputs": [
        {
          "output_type": "execute_result",
          "data": {
            "text/plain": [
              "array([ 7,  5,  1,  4,  1,  9,  3, 11, 13, 12,  5,  2,  7, 10,  2])"
            ]
          },
          "metadata": {},
          "execution_count": 19
        }
      ]
    },
    {
      "cell_type": "code",
      "source": [
        "sorted(arr)"
      ],
      "metadata": {
        "colab": {
          "base_uri": "https://localhost:8080/"
        },
        "id": "lYfUx00Rb_45",
        "outputId": "19b338aa-4232-4036-c8c0-86a9b032265a"
      },
      "execution_count": null,
      "outputs": [
        {
          "output_type": "execute_result",
          "data": {
            "text/plain": [
              "[1, 1, 2, 2, 3, 4, 5, 5, 7, 7, 9, 10, 11, 12, 13]"
            ]
          },
          "metadata": {},
          "execution_count": 20
        }
      ]
    },
    {
      "cell_type": "code",
      "source": [
        "#68\n",
        "arr = np.array([12,25,6,42,8,30])\n",
        "arr[arr>20]"
      ],
      "metadata": {
        "colab": {
          "base_uri": "https://localhost:8080/"
        },
        "id": "gJTkHJTEcGzR",
        "outputId": "5798103d-dd1f-42bc-cdc0-62d979937573"
      },
      "execution_count": null,
      "outputs": [
        {
          "output_type": "execute_result",
          "data": {
            "text/plain": [
              "array([25, 42, 30])"
            ]
          },
          "metadata": {},
          "execution_count": 21
        }
      ]
    },
    {
      "cell_type": "code",
      "source": [
        "#69\n",
        "arr = np.array([1,5,8,12,15])\n",
        "arr[arr%3==0]"
      ],
      "metadata": {
        "colab": {
          "base_uri": "https://localhost:8080/"
        },
        "id": "P5XOLZgIcnsx",
        "outputId": "ba970808-706e-4573-9440-8bf5d3f75620"
      },
      "execution_count": null,
      "outputs": [
        {
          "output_type": "execute_result",
          "data": {
            "text/plain": [
              "array([12, 15])"
            ]
          },
          "metadata": {},
          "execution_count": 22
        }
      ]
    },
    {
      "cell_type": "code",
      "source": [
        "#70\n",
        "arr = np.array([10,20,30,40,50])\n",
        "arr[(arr>=20) & (arr<=40)]"
      ],
      "metadata": {
        "colab": {
          "base_uri": "https://localhost:8080/"
        },
        "id": "xtdgFQa_c-Ux",
        "outputId": "f8695015-965b-495a-ec76-848c9c6b26bf"
      },
      "execution_count": null,
      "outputs": [
        {
          "output_type": "execute_result",
          "data": {
            "text/plain": [
              "array([20, 30, 40])"
            ]
          },
          "metadata": {},
          "execution_count": 28
        }
      ]
    },
    {
      "cell_type": "code",
      "source": [
        "#71\n",
        "arr = np.array([1,2,3])\n",
        "print(arr.dtype.byteorder)"
      ],
      "metadata": {
        "colab": {
          "base_uri": "https://localhost:8080/"
        },
        "id": "acuwTB7mdXWZ",
        "outputId": "8380c255-ee1a-414d-d779-2d1ab442584d"
      },
      "execution_count": null,
      "outputs": [
        {
          "output_type": "stream",
          "name": "stdout",
          "text": [
            "=\n"
          ]
        }
      ]
    },
    {
      "cell_type": "code",
      "source": [
        "#72\n",
        "arr = np.array([1,2,3],dtype = np.int32)\n",
        "print(arr.byteswap())\n",
        "\n"
      ],
      "metadata": {
        "colab": {
          "base_uri": "https://localhost:8080/"
        },
        "id": "4e-7VvQheGvB",
        "outputId": "fafd5c93-b454-4b07-dc20-6ae48acdc036"
      },
      "execution_count": null,
      "outputs": [
        {
          "output_type": "stream",
          "name": "stdout",
          "text": [
            "[16777216 33554432 50331648]\n"
          ]
        }
      ]
    },
    {
      "cell_type": "code",
      "source": [
        "#73\n",
        "arr = np.array([1,2,3],dtype=np.int32)\n",
        "arr_swapped = arr.newbyteorder()\n",
        "print(arr_swapped.dtype.byteorder)"
      ],
      "metadata": {
        "colab": {
          "base_uri": "https://localhost:8080/"
        },
        "id": "Eqf-OZnOgZmL",
        "outputId": "4d59f5cf-29e6-49fe-9aa5-255266ec4dfd"
      },
      "execution_count": null,
      "outputs": [
        {
          "output_type": "stream",
          "name": "stdout",
          "text": [
            ">\n"
          ]
        }
      ]
    },
    {
      "cell_type": "code",
      "source": [
        "#74\n",
        "\n",
        "arr = np.array([1, 2, 3], dtype=np.int32)\n",
        "\n",
        "# Check if byte swapping is needed based on system endianness\n",
        "if sys.byteorder == 'little':\n",
        "    arr_swapped = arr.newbyteorder('>')  # Swap to big-endian if system is little-endian\n",
        "elif sys.byteorder == 'big':\n",
        "    arr_swapped = arr.newbyteorder('<')  # Swap to little-endian if system is big-endian\n",
        "\n",
        "# Print the byte order of the swapped array\n",
        "print(arr_swapped.dtype.byteorder)\n"
      ],
      "metadata": {
        "colab": {
          "base_uri": "https://localhost:8080/"
        },
        "id": "V2TKMu5nhMJ6",
        "outputId": "539dbc6c-7082-4584-c147-d4e40cc3842c"
      },
      "execution_count": null,
      "outputs": [
        {
          "output_type": "stream",
          "name": "stdout",
          "text": [
            ">\n"
          ]
        }
      ]
    },
    {
      "cell_type": "code",
      "source": [
        "import sys\n",
        "#75\n",
        "arr = np.array([1, 2, 3], dtype=np.int32)\n",
        "\n",
        "native_byteorder = sys.byteorder\n",
        "array_byteorder = arr.dtype.byteorder\n",
        "\n",
        "if native_byteorder != array_byteorder:\n",
        "    print(\"Byte swapping is necessary.\")\n",
        "else:\n",
        "    print(\"Byte swapping is not necessary.\")"
      ],
      "metadata": {
        "colab": {
          "base_uri": "https://localhost:8080/"
        },
        "id": "9ev2Knd3H5Z_",
        "outputId": "1a647b0a-3a1c-4549-efde-86c7e87d47f0"
      },
      "execution_count": null,
      "outputs": [
        {
          "output_type": "stream",
          "name": "stdout",
          "text": [
            "Byte swapping is necessary.\n"
          ]
        }
      ]
    },
    {
      "cell_type": "code",
      "source": [
        "#76\n",
        "arr1 = np.array([1,2,3,4,5,6,7,8,9,10])\n",
        "\n",
        "copy_arr = np.copy(arr1)\n",
        "# Modifying copy_arr\n",
        "copy_arr[3] = 30\n",
        "print(copy_arr)\n",
        "print(arr1)"
      ],
      "metadata": {
        "colab": {
          "base_uri": "https://localhost:8080/"
        },
        "id": "CPRgPWpfJAFL",
        "outputId": "ada658cf-1fc8-44ed-f2ea-5a3b4e414df0"
      },
      "execution_count": null,
      "outputs": [
        {
          "output_type": "stream",
          "name": "stdout",
          "text": [
            "[ 1  2  3 30  5  6  7  8  9 10]\n",
            "[ 1  2  3  4  5  6  7  8  9 10]\n"
          ]
        }
      ]
    },
    {
      "cell_type": "code",
      "source": [
        "# it is not effectin arr1 when i am modifying copy_arr"
      ],
      "metadata": {
        "id": "YI3nVzUrKSTT"
      },
      "execution_count": null,
      "outputs": []
    },
    {
      "cell_type": "code",
      "source": [
        "#77\n",
        "# original matrix\n",
        "matrix = np.random.randint(1, 10, (3, 3))\n",
        "print(\"Original matrix:\\n\", matrix)\n",
        "\n",
        "#  a slice  of the matrix\n",
        "view_slice = matrix[1:, 1:]\n",
        "print(\"\\nSlice view:\\n\", view_slice)\n",
        "\n",
        "# Modify an element in the slice view\n",
        "view_slice[0, 0] = 999\n",
        "print(\"\\nSlice view after modification:\\n\", view_slice)\n",
        "\n",
        "# Check if the original matrix is altered\n",
        "print(\"\\nOriginal matrix after modification of slice:\\n\", matrix)\n"
      ],
      "metadata": {
        "colab": {
          "base_uri": "https://localhost:8080/"
        },
        "id": "4kE_HVIJKr6C",
        "outputId": "b9b15cc6-f54d-42b4-f0a0-bf1097d95a36"
      },
      "execution_count": null,
      "outputs": [
        {
          "output_type": "stream",
          "name": "stdout",
          "text": [
            "Original matrix:\n",
            " [[5 9 1]\n",
            " [8 1 1]\n",
            " [8 6 3]]\n",
            "\n",
            "Slice view:\n",
            " [[1 1]\n",
            " [6 3]]\n",
            "\n",
            "Slice view after modification:\n",
            " [[999   1]\n",
            " [  6   3]]\n",
            "\n",
            "Original matrix after modification of slice:\n",
            " [[  5   9   1]\n",
            " [  8 999   1]\n",
            " [  8   6   3]]\n"
          ]
        }
      ]
    },
    {
      "cell_type": "code",
      "source": [
        "# it is effecting the orginal array\n"
      ],
      "metadata": {
        "id": "TskVgmbUNSrp"
      },
      "execution_count": null,
      "outputs": []
    },
    {
      "cell_type": "code",
      "source": [
        "#78\n",
        "# original array\n",
        "array_a = np.arange(1, 13).reshape(4, 3)\n",
        "print(\"Original array:\\n\", array_a)\n",
        "\n",
        "#  a slice of the array\n",
        "view_b = array_a[1:3, :]\n",
        "print(\"\\nSlice view:\\n\", view_b)\n",
        "\n",
        "# Broadcast addition of 5 to the slice view\n",
        "view_b += 5\n",
        "print(\"\\nSlice view after broadcasting:\\n\", view_b)\n",
        "\n",
        "# Check if the original array is altered\n",
        "print(\"\\nOriginal array after modification of slice:\\n\", array_a)"
      ],
      "metadata": {
        "colab": {
          "base_uri": "https://localhost:8080/"
        },
        "id": "Ge6BfJeNN2pK",
        "outputId": "f2d9684e-9227-42e1-e4b0-e27d96b0ce66"
      },
      "execution_count": null,
      "outputs": [
        {
          "output_type": "stream",
          "name": "stdout",
          "text": [
            "Original array:\n",
            " [[ 1  2  3]\n",
            " [ 4  5  6]\n",
            " [ 7  8  9]\n",
            " [10 11 12]]\n",
            "\n",
            "Slice view:\n",
            " [[4 5 6]\n",
            " [7 8 9]]\n",
            "\n",
            "Slice view after broadcasting:\n",
            " [[ 9 10 11]\n",
            " [12 13 14]]\n",
            "\n",
            "Original array after modification of slice:\n",
            " [[ 1  2  3]\n",
            " [ 9 10 11]\n",
            " [12 13 14]\n",
            " [10 11 12]]\n"
          ]
        }
      ]
    },
    {
      "cell_type": "code",
      "source": [
        "# it is also effecting the original array as well"
      ],
      "metadata": {
        "id": "JC3IHCIvjTzE"
      },
      "execution_count": null,
      "outputs": []
    },
    {
      "cell_type": "code",
      "source": [
        "#79\n",
        "orig_array = np.arange(1,9).reshape(2,4)\n",
        "print('original_array:\\n',orig_array)\n",
        "# creating reshaped_view\n",
        "reshaped_view = orig_array.reshape(4,2)\n",
        "print('\\noriginal_array:\\n',reshaped_view)\n",
        "\n",
        "#Modifying the reshaped_view\n",
        "reshaped_view[1,1] = 34\n",
        "print('\\nModified reshaped_view:\\n',reshaped_view)\n",
        "\n",
        "#Check if the original array is altered\n",
        "print('\\nOriginal array after modification of reshaped_view:\\n',orig_array)"
      ],
      "metadata": {
        "colab": {
          "base_uri": "https://localhost:8080/"
        },
        "id": "zwTPokZ-lNHP",
        "outputId": "6bb84258-6a75-4f90-a8e8-d416dd95225d"
      },
      "execution_count": null,
      "outputs": [
        {
          "output_type": "stream",
          "name": "stdout",
          "text": [
            "original_array:\n",
            " [[1 2 3 4]\n",
            " [5 6 7 8]]\n",
            "\n",
            "original_array:\n",
            " [[1 2]\n",
            " [3 4]\n",
            " [5 6]\n",
            " [7 8]]\n",
            "\n",
            "Modified reshaped_view:\n",
            " [[ 1  2]\n",
            " [ 3 34]\n",
            " [ 5  6]\n",
            " [ 7  8]]\n",
            "\n",
            "Original array after modification of reshaped_view:\n",
            " [[ 1  2  3 34]\n",
            " [ 5  6  7  8]]\n"
          ]
        }
      ]
    },
    {
      "cell_type": "code",
      "source": [
        "# Yes , it is reflecting in the original array"
      ],
      "metadata": {
        "id": "-NslyW-QmFBG"
      },
      "execution_count": null,
      "outputs": []
    },
    {
      "cell_type": "code",
      "source": [
        "#80\n",
        "data = np.random.randint(1,20,(3,4))\n",
        "print(data)\n",
        "# creating a copy of data > 5\n",
        "data_copy = np.copy(data[data>5])\n",
        "print(\"\\ncopied data from data:\\n\",data_copy)\n",
        "# modifying the data_copy\n",
        "data_copy[0] = 100\n",
        "print(\"\\nmodified data_copy:\\n\",data_copy)\n",
        "# Check if the original array is altered\n",
        "print(\"\\nOriginal array after modification of data_copy:\\n\",data)\n",
        "\n"
      ],
      "metadata": {
        "colab": {
          "base_uri": "https://localhost:8080/"
        },
        "id": "K7CdHym4owqC",
        "outputId": "f91cdac2-c56d-4a6d-947c-58a7859e33ce"
      },
      "execution_count": null,
      "outputs": [
        {
          "output_type": "stream",
          "name": "stdout",
          "text": [
            "[[11  6  7 13]\n",
            " [ 6 11 16  9]\n",
            " [18  4 15 11]]\n",
            "\n",
            "copied data from data:\n",
            " [11  6  7 13  6 11 16  9 18 15 11]\n",
            "\n",
            "modified data_copy:\n",
            " [100   6   7  13   6  11  16   9  18  15  11]\n",
            "\n",
            "Original array after modification of data_copy:\n",
            " [[11  6  7 13]\n",
            " [ 6 11 16  9]\n",
            " [18  4 15 11]]\n"
          ]
        }
      ]
    },
    {
      "cell_type": "code",
      "source": [
        "# No, it is not effecting the original array"
      ],
      "metadata": {
        "id": "dbExBFUUpvwD"
      },
      "execution_count": null,
      "outputs": []
    },
    {
      "cell_type": "code",
      "source": [
        "#81\n",
        "A = np.array([[1, 2], [3, 4]])\n",
        "B = np.array([[5,6],[7,5]])\n",
        "addition = A+B\n",
        "print('Addition is:\\n',addition)\n",
        "substraction = A-B\n",
        "print('Substraction is:\\n',substraction)"
      ],
      "metadata": {
        "colab": {
          "base_uri": "https://localhost:8080/"
        },
        "id": "wZwtyYufqDHT",
        "outputId": "46e6d5df-b99a-4c84-cc62-e8aab7c3c5fb"
      },
      "execution_count": null,
      "outputs": [
        {
          "output_type": "stream",
          "name": "stdout",
          "text": [
            "Addition is:\n",
            " [[ 6  8]\n",
            " [10  9]]\n",
            "Substraction is:\n",
            " [[-4 -4]\n",
            " [-4 -1]]\n"
          ]
        }
      ]
    },
    {
      "cell_type": "code",
      "source": [
        "#82\n",
        "C = np.random.randint(1,15,(3,2))\n",
        "D = np.random.randint(1,15,(2,4))\n",
        "print(C)\n",
        "print(D)\n",
        "multiplication = C.dot(D)\n",
        "print('\\nMatrix multiplication is:\\n',multiplication)"
      ],
      "metadata": {
        "colab": {
          "base_uri": "https://localhost:8080/"
        },
        "id": "ZZ9zU70grcUJ",
        "outputId": "54600218-2ed5-4554-d611-aff2149b412d"
      },
      "execution_count": null,
      "outputs": [
        {
          "output_type": "stream",
          "name": "stdout",
          "text": [
            "[[ 7 14]\n",
            " [ 7  6]\n",
            " [ 4  9]]\n",
            "[[10  8  3 14]\n",
            " [ 5  6  5  2]]\n",
            "\n",
            "Matrix multiplication is:\n",
            " [[140 140  91 126]\n",
            " [100  92  51 110]\n",
            " [ 85  86  57  74]]\n"
          ]
        }
      ]
    },
    {
      "cell_type": "code",
      "source": [
        "#83\n",
        "E = np.random.randint(1,17,(3,2))\n",
        "print(E)\n",
        "transpose = E.T\n",
        "print('\\nTranspose is:\\n',transpose)\n"
      ],
      "metadata": {
        "colab": {
          "base_uri": "https://localhost:8080/"
        },
        "id": "cN26eoHyr40v",
        "outputId": "902ea811-5c3a-42d2-eb9d-cac83de63925"
      },
      "execution_count": null,
      "outputs": [
        {
          "output_type": "stream",
          "name": "stdout",
          "text": [
            "[[13 16]\n",
            " [ 4  1]\n",
            " [ 5 11]]\n",
            "\n",
            "Transpose is:\n",
            " [[13  4  5]\n",
            " [16  1 11]]\n"
          ]
        }
      ]
    },
    {
      "cell_type": "code",
      "source": [
        "#84\n",
        "F = np.random.randint(1,15,(3,3))\n",
        "print(F)\n",
        "det_f = np.linalg.det(F)\n",
        "print('\\nDeterminant is:\\n',det_f)"
      ],
      "metadata": {
        "colab": {
          "base_uri": "https://localhost:8080/"
        },
        "id": "YKvgNBi0sfrS",
        "outputId": "8d822571-94bb-4325-e9f4-c9794711f02f"
      },
      "execution_count": null,
      "outputs": [
        {
          "output_type": "stream",
          "name": "stdout",
          "text": [
            "[[ 1 13 12]\n",
            " [ 1  1  6]\n",
            " [ 5  3 13]]\n",
            "\n",
            "Determinant is:\n",
            " 192.0\n"
          ]
        }
      ]
    },
    {
      "cell_type": "code",
      "source": [
        "#85\n",
        "G = np.random.randint(1,15,(3,3))\n",
        "print(G)\n",
        "inv_g = np.linalg.inv(G)\n",
        "print('\\nInverse is:\\n',inv_g)"
      ],
      "metadata": {
        "colab": {
          "base_uri": "https://localhost:8080/"
        },
        "id": "AMpjppLKtI2Y",
        "outputId": "9784d264-af2e-488e-ace4-f7e86a67734d"
      },
      "execution_count": null,
      "outputs": [
        {
          "output_type": "stream",
          "name": "stdout",
          "text": [
            "[[10  4 12]\n",
            " [ 8  6 13]\n",
            " [12 14  1]]\n",
            "\n",
            "Inverse is:\n",
            " [[ 0.25581395 -0.23837209  0.02906977]\n",
            " [-0.21511628  0.19476744  0.0494186 ]\n",
            " [-0.05813953  0.13372093 -0.04069767]]\n"
          ]
        }
      ]
    },
    {
      "cell_type": "code",
      "source": [],
      "metadata": {
        "id": "lCOBlijntcb-"
      },
      "execution_count": null,
      "outputs": []
    }
  ],
  "metadata": {
    "colab": {
      "provenance": []
    },
    "kernelspec": {
      "display_name": "Python 3",
      "name": "python3"
    },
    "language_info": {
      "name": "python"
    }
  },
  "nbformat": 4,
  "nbformat_minor": 0
}